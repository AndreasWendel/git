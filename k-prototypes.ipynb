{
 "cells": [
  {
   "cell_type": "code",
   "execution_count": 81,
   "metadata": {},
   "outputs": [],
   "source": [
    "import pandas as pd\n",
    "from kmodes.kprototypes import KPrototypes\n",
    "from sklearn.metrics import silhouette_score"
   ]
  },
  {
   "cell_type": "code",
   "execution_count": 82,
   "metadata": {},
   "outputs": [],
   "source": [
    "# Load dataset\n",
    "data = pd.read_csv(\"cvd_adj.csv\")"
   ]
  },
  {
   "cell_type": "code",
   "execution_count": 83,
   "metadata": {},
   "outputs": [],
   "source": [
    "# Select numerical and categorical columns\n",
    "numerical_columns = ['Height_(cm)', 'Weight_(kg)', 'BMI', 'Alcohol_Consumption', 'Fruit_Consumption', \n",
    "                     'Green_Vegetables_Consumption', 'FriedPotato_Consumption']\n",
    "categorical_columns = data.select_dtypes(include=['bool']).columns.tolist()"
   ]
  },
  {
   "cell_type": "code",
   "execution_count": 84,
   "metadata": {},
   "outputs": [],
   "source": [
    "# Combine numerical and categorical columns\n",
    "data_combined = data[numerical_columns + categorical_columns]\n",
    "\n",
    "# Convert boolean columns to integers\n",
    "data_combined[categorical_columns] = data_combined[categorical_columns].astype(int)"
   ]
  },
  {
   "cell_type": "code",
   "execution_count": 85,
   "metadata": {},
   "outputs": [],
   "source": [
    "# Sample 10% of the data\n",
    "sampled_data = data_combined.sample(frac=0.01, random_state=42)"
   ]
  },
  {
   "cell_type": "code",
   "execution_count": 86,
   "metadata": {},
   "outputs": [],
   "source": [
    "# Running K-Prototypes for different cluster numbers and calculating silhouette score\n",
    "silhouette_scores = []\n",
    "cluster_range = range(2, 11)"
   ]
  },
  {
   "cell_type": "code",
   "execution_count": 87,
   "metadata": {},
   "outputs": [],
   "source": [
    "for n_clusters in cluster_range:\n",
    "    kproto = KPrototypes(n_clusters=n_clusters, random_state=42)\n",
    "    clusters = kproto.fit_predict(sampled_data, categorical=[sampled_data.columns.get_loc(col) for col in categorical_columns])\n",
    "    \n",
    "    # Calculating silhouette score\n",
    "    silhouette_avg = silhouette_score(sampled_data, clusters, metric='euclidean')\n",
    "    silhouette_scores.append(silhouette_avg)"
   ]
  },
  {
   "cell_type": "code",
   "execution_count": 88,
   "metadata": {},
   "outputs": [
    {
     "name": "stdout",
     "output_type": "stream",
     "text": [
      "   Number of Clusters  Silhouette Score\n",
      "0                   2          0.366367\n",
      "1                   3          0.266975\n",
      "2                   4          0.278665\n",
      "3                   5          0.225604\n",
      "4                   6          0.216377\n",
      "5                   7          0.194014\n",
      "6                   8          0.204053\n",
      "7                   9          0.193069\n",
      "8                  10          0.193362\n"
     ]
    }
   ],
   "source": [
    "# Print or visualize the silhouette scores\n",
    "print(pd.DataFrame({\n",
    "    'Number of Clusters': list(cluster_range),\n",
    "    'Silhouette Score': silhouette_scores\n",
    "}))"
   ]
  },
  {
   "cell_type": "code",
   "execution_count": null,
   "metadata": {},
   "outputs": [],
   "source": []
  }
 ],
 "metadata": {
  "kernelspec": {
   "display_name": "MachineLearning",
   "language": "python",
   "name": "python3"
  },
  "language_info": {
   "codemirror_mode": {
    "name": "ipython",
    "version": 3
   },
   "file_extension": ".py",
   "mimetype": "text/x-python",
   "name": "python",
   "nbconvert_exporter": "python",
   "pygments_lexer": "ipython3",
   "version": "3.11.7"
  }
 },
 "nbformat": 4,
 "nbformat_minor": 2
}
