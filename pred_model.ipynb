{
 "cells": [
  {
   "cell_type": "code",
   "execution_count": 32,
   "metadata": {},
   "outputs": [],
   "source": [
    "import pandas as pd\n",
    "import numpy as np\n",
    "import matplotlib.pyplot as plt\n",
    "import seaborn as sns\n",
    "import plotly.graph_objs as go\n",
    "import plotly.express as px\n",
    "import matplotlib.colors as mcolors\n",
    "import matplotlib.cm as cm\n",
    "\n",
    "from sklearn.linear_model import LogisticRegression\n",
    "from sklearn.ensemble import RandomForestClassifier\n",
    "from sklearn.svm import SVC\n",
    "import xgboost as xgb\n",
    "\n",
    "from sklearn.model_selection import train_test_split, GridSearchCV\n",
    "from sklearn.preprocessing import StandardScaler\n",
    "\n",
    "from sklearn.metrics import accuracy_score, precision_score, recall_score, f1_score, classification_report, confusion_matrix\n",
    "from sklearn.metrics import roc_curve, auc\n",
    "\n",
    "import joblib"
   ]
  },
  {
   "cell_type": "code",
   "execution_count": 71,
   "metadata": {},
   "outputs": [],
   "source": [
    "colors = px.colors.sequential.Magma"
   ]
  },
  {
   "cell_type": "markdown",
   "metadata": {},
   "source": [
    "# get data"
   ]
  },
  {
   "cell_type": "code",
   "execution_count": 33,
   "metadata": {},
   "outputs": [],
   "source": [
    "#cvd_df = pd.read_csv(\"CVD_cleaned.csv\")\n",
    "cvd_adj = pd.read_csv(\"cvd_adj.csv\")\n",
    "cvd_cut = pd.read_csv(\"cvd_manually_cut.csv\")\n",
    "cvd_smotenc = pd.read_csv(\"cvd_smotenc.csv\", compression=\"gzip\")# de-compress\n"
   ]
  },
  {
   "cell_type": "code",
   "execution_count": 40,
   "metadata": {},
   "outputs": [
    {
     "name": "stdout",
     "output_type": "stream",
     "text": [
      "24971\n",
      "283883\n",
      "0.08085049894124732\n",
      "0.4000032037419706\n",
      "0.5\n",
      "283883\n",
      "283883\n"
     ]
    }
   ],
   "source": [
    "print(cvd_adj[\"Heart_Disease_Yes\"].eq(True).sum())\n",
    "print(cvd_adj[\"Heart_Disease_Yes\"].eq(False).sum())\n",
    "print(cvd_adj[\"Heart_Disease_Yes\"].eq(True).sum()/(len(cvd_adj[\"Heart_Disease_Yes\"])))\n",
    "print(cvd_cut[\"Heart_Disease_Yes\"].eq(True).sum()/(len(cvd_cut[\"Heart_Disease_Yes\"])))\n",
    "print(cvd_smotenc[\"Heart_Disease_Yes\"].eq(True).sum()/(len(cvd_smotenc[\"Heart_Disease_Yes\"])))\n",
    "print(cvd_smotenc[\"Heart_Disease_Yes\"].eq(True).sum())\n",
    "print(cvd_smotenc[\"Heart_Disease_Yes\"].eq(False).sum())"
   ]
  },
  {
   "cell_type": "code",
   "execution_count": 17,
   "metadata": {},
   "outputs": [],
   "source": [
    "#cvd_df.info()"
   ]
  },
  {
   "cell_type": "code",
   "execution_count": 3,
   "metadata": {},
   "outputs": [
    {
     "name": "stdout",
     "output_type": "stream",
     "text": [
      "<class 'pandas.core.frame.DataFrame'>\n",
      "RangeIndex: 308854 entries, 0 to 308853\n",
      "Data columns (total 38 columns):\n",
      " #   Column                                               Non-Null Count   Dtype  \n",
      "---  ------                                               --------------   -----  \n",
      " 0   Height_(cm)                                          308854 non-null  float64\n",
      " 1   Weight_(kg)                                          308854 non-null  float64\n",
      " 2   BMI                                                  308854 non-null  float64\n",
      " 3   Alcohol_Consumption                                  308854 non-null  float64\n",
      " 4   Fruit_Consumption                                    308854 non-null  float64\n",
      " 5   Green_Vegetables_Consumption                         308854 non-null  float64\n",
      " 6   FriedPotato_Consumption                              308854 non-null  float64\n",
      " 7   General_Health_Fair                                  308854 non-null  bool   \n",
      " 8   General_Health_Good                                  308854 non-null  bool   \n",
      " 9   General_Health_Poor                                  308854 non-null  bool   \n",
      " 10  General_Health_Very Good                             308854 non-null  bool   \n",
      " 11  Checkup_5 or more years ago                          308854 non-null  bool   \n",
      " 12  Checkup_Within the past 2 years                      308854 non-null  bool   \n",
      " 13  Checkup_Within the past 5 years                      308854 non-null  bool   \n",
      " 14  Checkup_Within the past year                         308854 non-null  bool   \n",
      " 15  Exercise_Yes                                         308854 non-null  bool   \n",
      " 16  Heart_Disease_Yes                                    308854 non-null  bool   \n",
      " 17  Skin_Cancer_Yes                                      308854 non-null  bool   \n",
      " 18  Other_Cancer_Yes                                     308854 non-null  bool   \n",
      " 19  Depression_Yes                                       308854 non-null  bool   \n",
      " 20  Diabetes_No, pre-diabetes or borderline diabetes     308854 non-null  bool   \n",
      " 21  Diabetes_Yes                                         308854 non-null  bool   \n",
      " 22  Diabetes_Yes, but female told only during pregnancy  308854 non-null  bool   \n",
      " 23  Arthritis_Yes                                        308854 non-null  bool   \n",
      " 24  Sex_Male                                             308854 non-null  bool   \n",
      " 25  Age_Category_25-29                                   308854 non-null  bool   \n",
      " 26  Age_Category_30-34                                   308854 non-null  bool   \n",
      " 27  Age_Category_35-39                                   308854 non-null  bool   \n",
      " 28  Age_Category_40-44                                   308854 non-null  bool   \n",
      " 29  Age_Category_45-49                                   308854 non-null  bool   \n",
      " 30  Age_Category_50-54                                   308854 non-null  bool   \n",
      " 31  Age_Category_55-59                                   308854 non-null  bool   \n",
      " 32  Age_Category_60-64                                   308854 non-null  bool   \n",
      " 33  Age_Category_65-69                                   308854 non-null  bool   \n",
      " 34  Age_Category_70-74                                   308854 non-null  bool   \n",
      " 35  Age_Category_75-79                                   308854 non-null  bool   \n",
      " 36  Age_Category_80+                                     308854 non-null  bool   \n",
      " 37  Smoking_History_Yes                                  308854 non-null  bool   \n",
      "dtypes: bool(31), float64(7)\n",
      "memory usage: 25.6 MB\n"
     ]
    }
   ],
   "source": [
    "cvd_adj.info()"
   ]
  },
  {
   "cell_type": "code",
   "execution_count": 4,
   "metadata": {},
   "outputs": [
    {
     "name": "stdout",
     "output_type": "stream",
     "text": [
      "<class 'pandas.core.frame.DataFrame'>\n",
      "RangeIndex: 62427 entries, 0 to 62426\n",
      "Data columns (total 38 columns):\n",
      " #   Column                                               Non-Null Count  Dtype  \n",
      "---  ------                                               --------------  -----  \n",
      " 0   Height_(cm)                                          62427 non-null  float64\n",
      " 1   Weight_(kg)                                          62427 non-null  float64\n",
      " 2   BMI                                                  62427 non-null  float64\n",
      " 3   Alcohol_Consumption                                  62427 non-null  float64\n",
      " 4   Fruit_Consumption                                    62427 non-null  float64\n",
      " 5   Green_Vegetables_Consumption                         62427 non-null  float64\n",
      " 6   FriedPotato_Consumption                              62427 non-null  float64\n",
      " 7   General_Health_Fair                                  62427 non-null  bool   \n",
      " 8   General_Health_Good                                  62427 non-null  bool   \n",
      " 9   General_Health_Poor                                  62427 non-null  bool   \n",
      " 10  General_Health_Very Good                             62427 non-null  bool   \n",
      " 11  Checkup_5 or more years ago                          62427 non-null  bool   \n",
      " 12  Checkup_Within the past 2 years                      62427 non-null  bool   \n",
      " 13  Checkup_Within the past 5 years                      62427 non-null  bool   \n",
      " 14  Checkup_Within the past year                         62427 non-null  bool   \n",
      " 15  Exercise_Yes                                         62427 non-null  bool   \n",
      " 16  Heart_Disease_Yes                                    62427 non-null  bool   \n",
      " 17  Skin_Cancer_Yes                                      62427 non-null  bool   \n",
      " 18  Other_Cancer_Yes                                     62427 non-null  bool   \n",
      " 19  Depression_Yes                                       62427 non-null  bool   \n",
      " 20  Diabetes_No, pre-diabetes or borderline diabetes     62427 non-null  bool   \n",
      " 21  Diabetes_Yes                                         62427 non-null  bool   \n",
      " 22  Diabetes_Yes, but female told only during pregnancy  62427 non-null  bool   \n",
      " 23  Arthritis_Yes                                        62427 non-null  bool   \n",
      " 24  Sex_Male                                             62427 non-null  bool   \n",
      " 25  Age_Category_25-29                                   62427 non-null  bool   \n",
      " 26  Age_Category_30-34                                   62427 non-null  bool   \n",
      " 27  Age_Category_35-39                                   62427 non-null  bool   \n",
      " 28  Age_Category_40-44                                   62427 non-null  bool   \n",
      " 29  Age_Category_45-49                                   62427 non-null  bool   \n",
      " 30  Age_Category_50-54                                   62427 non-null  bool   \n",
      " 31  Age_Category_55-59                                   62427 non-null  bool   \n",
      " 32  Age_Category_60-64                                   62427 non-null  bool   \n",
      " 33  Age_Category_65-69                                   62427 non-null  bool   \n",
      " 34  Age_Category_70-74                                   62427 non-null  bool   \n",
      " 35  Age_Category_75-79                                   62427 non-null  bool   \n",
      " 36  Age_Category_80+                                     62427 non-null  bool   \n",
      " 37  Smoking_History_Yes                                  62427 non-null  bool   \n",
      "dtypes: bool(31), float64(7)\n",
      "memory usage: 5.2 MB\n"
     ]
    }
   ],
   "source": [
    "cvd_cut.info()"
   ]
  },
  {
   "cell_type": "code",
   "execution_count": 5,
   "metadata": {},
   "outputs": [
    {
     "name": "stdout",
     "output_type": "stream",
     "text": [
      "<class 'pandas.core.frame.DataFrame'>\n",
      "RangeIndex: 567766 entries, 0 to 567765\n",
      "Data columns (total 38 columns):\n",
      " #   Column                                               Non-Null Count   Dtype  \n",
      "---  ------                                               --------------   -----  \n",
      " 0   Height_(cm)                                          567766 non-null  float64\n",
      " 1   Weight_(kg)                                          567766 non-null  float64\n",
      " 2   BMI                                                  567766 non-null  float64\n",
      " 3   Alcohol_Consumption                                  567766 non-null  float64\n",
      " 4   Fruit_Consumption                                    567766 non-null  float64\n",
      " 5   Green_Vegetables_Consumption                         567766 non-null  float64\n",
      " 6   FriedPotato_Consumption                              567766 non-null  float64\n",
      " 7   General_Health_Fair                                  567766 non-null  bool   \n",
      " 8   General_Health_Good                                  567766 non-null  bool   \n",
      " 9   General_Health_Poor                                  567766 non-null  bool   \n",
      " 10  General_Health_Very Good                             567766 non-null  bool   \n",
      " 11  Checkup_5 or more years ago                          567766 non-null  bool   \n",
      " 12  Checkup_Within the past 2 years                      567766 non-null  bool   \n",
      " 13  Checkup_Within the past 5 years                      567766 non-null  bool   \n",
      " 14  Checkup_Within the past year                         567766 non-null  bool   \n",
      " 15  Exercise_Yes                                         567766 non-null  bool   \n",
      " 16  Skin_Cancer_Yes                                      567766 non-null  bool   \n",
      " 17  Other_Cancer_Yes                                     567766 non-null  bool   \n",
      " 18  Depression_Yes                                       567766 non-null  bool   \n",
      " 19  Diabetes_No, pre-diabetes or borderline diabetes     567766 non-null  bool   \n",
      " 20  Diabetes_Yes                                         567766 non-null  bool   \n",
      " 21  Diabetes_Yes, but female told only during pregnancy  567766 non-null  bool   \n",
      " 22  Arthritis_Yes                                        567766 non-null  bool   \n",
      " 23  Sex_Male                                             567766 non-null  bool   \n",
      " 24  Age_Category_25-29                                   567766 non-null  bool   \n",
      " 25  Age_Category_30-34                                   567766 non-null  bool   \n",
      " 26  Age_Category_35-39                                   567766 non-null  bool   \n",
      " 27  Age_Category_40-44                                   567766 non-null  bool   \n",
      " 28  Age_Category_45-49                                   567766 non-null  bool   \n",
      " 29  Age_Category_50-54                                   567766 non-null  bool   \n",
      " 30  Age_Category_55-59                                   567766 non-null  bool   \n",
      " 31  Age_Category_60-64                                   567766 non-null  bool   \n",
      " 32  Age_Category_65-69                                   567766 non-null  bool   \n",
      " 33  Age_Category_70-74                                   567766 non-null  bool   \n",
      " 34  Age_Category_75-79                                   567766 non-null  bool   \n",
      " 35  Age_Category_80+                                     567766 non-null  bool   \n",
      " 36  Smoking_History_Yes                                  567766 non-null  bool   \n",
      " 37  Heart_Disease_Yes                                    567766 non-null  bool   \n",
      "dtypes: bool(31), float64(7)\n",
      "memory usage: 47.1 MB\n"
     ]
    }
   ],
   "source": [
    "cvd_smotenc.info()"
   ]
  },
  {
   "cell_type": "markdown",
   "metadata": {},
   "source": [
    "# dataset performance on LR"
   ]
  },
  {
   "cell_type": "code",
   "execution_count": 23,
   "metadata": {},
   "outputs": [],
   "source": [
    "def create_trainset(df):\n",
    "    X = df.drop(\"Heart_Disease_Yes\", axis=1)\n",
    "    y = df[\"Heart_Disease_Yes\"]\n",
    "    randomstate = 42\n",
    "    numerical_columns = [\"Height_(cm)\", \"Weight_(kg)\", \"BMI\", \"Alcohol_Consumption\", \n",
    "                         \"Fruit_Consumption\", \"Green_Vegetables_Consumption\", \"FriedPotato_Consumption\"]\n",
    "    \n",
    "    \n",
    "    standardscaler = StandardScaler()\n",
    "    X_scaled = standardscaler.fit_transform(X[numerical_columns])\n",
    "    \n",
    "    categorical_columns = X.drop(numerical_columns, axis=1)\n",
    "\n",
    "    full_data = np.hstack([X_scaled, categorical_columns.to_numpy()])\n",
    "    \n",
    "    X_train_scaled, X_test_scaled, y_train_scaled, y_test_scaled = train_test_split(full_data, y, test_size=0.2, random_state=randomstate)\n",
    "    #note y is obviously not scaled\n",
    "    \n",
    "    return X_train_scaled, X_test_scaled, y_train_scaled, y_test_scaled"
   ]
  },
  {
   "cell_type": "code",
   "execution_count": 49,
   "metadata": {},
   "outputs": [],
   "source": [
    "X_train_adj,X_test_adj,y_train_adj,y_test_adj = create_trainset(cvd_adj)\n",
    "X_train_cut,X_test_cut,y_train_cut,y_test_cut = create_trainset(cvd_cut)\n",
    "X_train_smotenc,X_test_smotenc,y_train_smotenc,y_test_smotenc = create_trainset(cvd_smotenc)"
   ]
  },
  {
   "cell_type": "code",
   "execution_count": 25,
   "metadata": {},
   "outputs": [
    {
     "data": {
      "text/plain": [
       "37"
      ]
     },
     "execution_count": 25,
     "metadata": {},
     "output_type": "execute_result"
    }
   ],
   "source": [
    "len(X_train_adj[0])"
   ]
  },
  {
   "cell_type": "code",
   "execution_count": 11,
   "metadata": {},
   "outputs": [],
   "source": [
    "X = cvd_adj.drop(\"Heart_Disease_Yes\", axis=1)\n",
    "y = cvd_adj[\"Heart_Disease_Yes\"]\n",
    "randomstate = 42\n",
    "numerical_columns = [\"Height_(cm)\", \"Weight_(kg)\", \"BMI\", \"Alcohol_Consumption\", \n",
    "                     \"Fruit_Consumption\", \"Green_Vegetables_Consumption\", \"FriedPotato_Consumption\"]\n",
    "    \n",
    "    \n",
    "standardscaler = StandardScaler()\n",
    "X_scaled = standardscaler.fit_transform(X[numerical_columns])\n",
    "    \n",
    "categorical_columns = cvd_adj.drop(numerical_columns, axis=1)\n",
    "\n",
    "full_data = np.hstack([X_scaled, categorical_columns.to_numpy()])"
   ]
  },
  {
   "cell_type": "code",
   "execution_count": 26,
   "metadata": {},
   "outputs": [
    {
     "data": {
      "text/plain": [
       "Height_(cm)                                            165.0\n",
       "Weight_(kg)                                            77.11\n",
       "BMI                                                    28.29\n",
       "Alcohol_Consumption                                      0.0\n",
       "Fruit_Consumption                                       30.0\n",
       "Green_Vegetables_Consumption                             0.0\n",
       "FriedPotato_Consumption                                  4.0\n",
       "General_Health_Fair                                    False\n",
       "General_Health_Good                                    False\n",
       "General_Health_Poor                                    False\n",
       "General_Health_Very Good                                True\n",
       "Checkup_5 or more years ago                            False\n",
       "Checkup_Within the past 2 years                        False\n",
       "Checkup_Within the past 5 years                        False\n",
       "Checkup_Within the past year                            True\n",
       "Exercise_Yes                                           False\n",
       "Heart_Disease_Yes                                       True\n",
       "Skin_Cancer_Yes                                        False\n",
       "Other_Cancer_Yes                                       False\n",
       "Depression_Yes                                         False\n",
       "Diabetes_No, pre-diabetes or borderline diabetes       False\n",
       "Diabetes_Yes                                            True\n",
       "Diabetes_Yes, but female told only during pregnancy    False\n",
       "Arthritis_Yes                                          False\n",
       "Sex_Male                                               False\n",
       "Age_Category_25-29                                     False\n",
       "Age_Category_30-34                                     False\n",
       "Age_Category_35-39                                     False\n",
       "Age_Category_40-44                                     False\n",
       "Age_Category_45-49                                     False\n",
       "Age_Category_50-54                                     False\n",
       "Age_Category_55-59                                     False\n",
       "Age_Category_60-64                                     False\n",
       "Age_Category_65-69                                     False\n",
       "Age_Category_70-74                                      True\n",
       "Age_Category_75-79                                     False\n",
       "Age_Category_80+                                       False\n",
       "Smoking_History_Yes                                    False\n",
       "Name: 1, dtype: object"
      ]
     },
     "execution_count": 26,
     "metadata": {},
     "output_type": "execute_result"
    }
   ],
   "source": [
    "cvd_adj.iloc[1]"
   ]
  },
  {
   "cell_type": "code",
   "execution_count": 27,
   "metadata": {},
   "outputs": [],
   "source": [
    "#LR fit func\n",
    "\n",
    "def LR_fit(x_train, x_test, y_train):\n",
    "    lr = LogisticRegression(random_state=42)\n",
    "    lr.fit(x_train,y_train)\n",
    "    lr_pred = lr.predict(x_test)\n",
    "    \n",
    "    return lr, lr_pred\n",
    "    "
   ]
  },
  {
   "cell_type": "code",
   "execution_count": 76,
   "metadata": {},
   "outputs": [],
   "source": [
    "lr_adj, lr_adj_pred = LR_fit(X_train_adj,X_test_adj,y_train_adj)\n",
    "lr_cut, lr_cut_pred = LR_fit(X_train_cut,X_test_cut,y_train_cut)\n",
    "lr_smotenc, lr_smotenc_pred = LR_fit(X_train_smotenc,X_test_smotenc,y_train_smotenc)"
   ]
  },
  {
   "cell_type": "code",
   "execution_count": 29,
   "metadata": {},
   "outputs": [],
   "source": [
    "def result_report(y_test,y_test_pred,title):\n",
    "    print(\"Classification Report:\\n\", classification_report(y_test, y_test_pred))\n",
    "\n",
    "    # Confusion matrix\n",
    "    conf_matrix = confusion_matrix(y_test, y_test_pred)\n",
    "    sns.heatmap(conf_matrix, annot=True, fmt=\"d\", cmap=\"Blues\")\n",
    "    plt.title(title)\n",
    "    plt.xlabel(\"Predicted\")\n",
    "    plt.ylabel(\"Actual\")\n",
    "    plt.show()"
   ]
  },
  {
   "cell_type": "code",
   "execution_count": 77,
   "metadata": {},
   "outputs": [
    {
     "name": "stdout",
     "output_type": "stream",
     "text": [
      "Classification Report:\n",
      "               precision    recall  f1-score   support\n",
      "\n",
      "       False       0.92      0.99      0.96     56774\n",
      "        True       0.51      0.06      0.11      4997\n",
      "\n",
      "    accuracy                           0.92     61771\n",
      "   macro avg       0.72      0.53      0.54     61771\n",
      "weighted avg       0.89      0.92      0.89     61771\n",
      "\n"
     ]
    },
    {
     "data": {
      "image/png": "[encoded data removed]",
      "text/plain": [
       "<Figure size 640x480 with 2 Axes>"
      ]
     },
     "metadata": {},
     "output_type": "display_data"
    },
    {
     "name": "stdout",
     "output_type": "stream",
     "text": [
      "Classification Report:\n",
      "               precision    recall  f1-score   support\n",
      "\n",
      "       False       0.79      0.81      0.80      7395\n",
      "        True       0.71      0.68      0.69      5091\n",
      "\n",
      "    accuracy                           0.76     12486\n",
      "   macro avg       0.75      0.74      0.75     12486\n",
      "weighted avg       0.75      0.76      0.75     12486\n",
      "\n"
     ]
    },
    {
     "data": {
      "image/png": "[encoded data removed]",
      "text/plain": [
       "<Figure size 640x480 with 2 Axes>"
      ]
     },
     "metadata": {},
     "output_type": "display_data"
    },
    {
     "name": "stdout",
     "output_type": "stream",
     "text": [
      "Classification Report:\n",
      "               precision    recall  f1-score   support\n",
      "\n",
      "       False       0.82      0.74      0.78     56701\n",
      "        True       0.76      0.83      0.80     56853\n",
      "\n",
      "    accuracy                           0.79    113554\n",
      "   macro avg       0.79      0.79      0.79    113554\n",
      "weighted avg       0.79      0.79      0.79    113554\n",
      "\n"
     ]
    },
    {
     "data": {
      "image/png": "[encoded data removed]",
      "text/plain": [
       "<Figure size 640x480 with 2 Axes>"
      ]
     },
     "metadata": {},
     "output_type": "display_data"
    }
   ],
   "source": [
    "result_report(y_test_adj, lr_adj_pred, \"adj data\")\n",
    "result_report(y_test_cut, lr_cut_pred, \"cut data\")\n",
    "result_report(y_test_smotenc, lr_smotenc_pred, \"smotenc data\")"
   ]
  },
  {
   "cell_type": "markdown",
   "metadata": {},
   "source": [
    "- https://www.kdnuggets.com/2023/01/micro-macro-weighted-averages-f1-score-clearly-explained.html\n",
    "- not we should look at maco average as we dont want to use a weighted answer as that will shadow how inaccurate the predictions are.\n",
    "- if we were to use micro avg(accuracy) or weighted avg we se that in the confusion matrix we fail to predict a true positiv heart disease carrier.\n",
    "- which would be the same as just saying that most patient doesn't have a heart disease even if they truly do\n",
    "- note that in the cut and smote dataset the all the f1 scores averages converges as the dataset becomes balanced"
   ]
  },
  {
   "cell_type": "markdown",
   "metadata": {},
   "source": [
    "fixing data imbalance made the models perform way better.\n",
    "will the model which used syntetic data still deliver a good result on real data"
   ]
  },
  {
   "cell_type": "code",
   "execution_count": 80,
   "metadata": {},
   "outputs": [],
   "source": [
    "X_train, X_test, y_train, y_test = create_trainset(cvd_adj)"
   ]
  },
  {
   "cell_type": "code",
   "execution_count": 58,
   "metadata": {},
   "outputs": [
    {
     "data": {
      "text/plain": [
       "array([[ 0.69288284,  0.12141331, -0.2094672 , ...,  0.        ,\n",
       "         0.        ,  0.        ],\n",
       "       [-0.5268572 , -0.19718971,  0.07570773, ...,  0.        ,\n",
       "         0.        ,  0.        ],\n",
       "       [-0.24537873, -0.51626126, -0.43024779, ...,  0.        ,\n",
       "         0.        ,  1.        ],\n",
       "       ...,\n",
       "       [ 0.22375206,  3.7342778 ,  4.00376236, ...,  0.        ,\n",
       "         0.        ,  1.        ],\n",
       "       [-2.8725111 , -1.10520831,  0.30415431, ...,  0.        ,\n",
       "         0.        ,  1.        ],\n",
       "       [-0.5268572 , -0.40990408, -0.17880323, ...,  0.        ,\n",
       "         0.        ,  0.        ]])"
      ]
     },
     "execution_count": 58,
     "metadata": {},
     "output_type": "execute_result"
    }
   ],
   "source": [
    "X_test"
   ]
  },
  {
   "cell_type": "code",
   "execution_count": 57,
   "metadata": {},
   "outputs": [
    {
     "data": {
      "text/plain": [
       "array([[ 0.69288284,  0.12141331, -0.2094672 , ...,  0.        ,\n",
       "         0.        ,  0.        ],\n",
       "       [-0.5268572 , -0.19718971,  0.07570773, ...,  0.        ,\n",
       "         0.        ,  0.        ],\n",
       "       [-0.24537873, -0.51626126, -0.43024779, ...,  0.        ,\n",
       "         0.        ,  1.        ],\n",
       "       ...,\n",
       "       [ 0.22375206,  3.7342778 ,  4.00376236, ...,  0.        ,\n",
       "         0.        ,  1.        ],\n",
       "       [-2.8725111 , -1.10520831,  0.30415431, ...,  0.        ,\n",
       "         0.        ,  1.        ],\n",
       "       [-0.5268572 , -0.40990408, -0.17880323, ...,  0.        ,\n",
       "         0.        ,  0.        ]])"
      ]
     },
     "execution_count": 57,
     "metadata": {},
     "output_type": "execute_result"
    }
   ],
   "source": [
    "X_test_adj"
   ]
  },
  {
   "cell_type": "code",
   "execution_count": 81,
   "metadata": {},
   "outputs": [
    {
     "name": "stdout",
     "output_type": "stream",
     "text": [
      "Classification Report:\n",
      "               precision    recall  f1-score   support\n",
      "\n",
      "       False       0.96      0.74      0.84     56774\n",
      "        True       0.19      0.69      0.30      4997\n",
      "\n",
      "    accuracy                           0.74     61771\n",
      "   macro avg       0.58      0.72      0.57     61771\n",
      "weighted avg       0.90      0.74      0.79     61771\n",
      "\n"
     ]
    },
    {
     "data": {
      "image/png": "[encoded data removed]",
      "text/plain": [
       "<Figure size 640x480 with 2 Axes>"
      ]
     },
     "metadata": {},
     "output_type": "display_data"
    }
   ],
   "source": [
    "temp = lr_smotenc.predict(X_test)\n",
    "result_report(y_test, temp, \"LR smotenc model\")"
   ]
  },
  {
   "cell_type": "code",
   "execution_count": 86,
   "metadata": {},
   "outputs": [
    {
     "name": "stdout",
     "output_type": "stream",
     "text": [
      "Classification Report:\n",
      "               precision    recall  f1-score   support\n",
      "\n",
      "       False       0.97      0.82      0.88     56774\n",
      "        True       0.24      0.68      0.36      4997\n",
      "\n",
      "    accuracy                           0.80     61771\n",
      "   macro avg       0.61      0.75      0.62     61771\n",
      "weighted avg       0.91      0.80      0.84     61771\n",
      "\n"
     ]
    },
    {
     "data": {
      "image/png": "[encoded data removed]",
      "text/plain": [
       "<Figure size 640x480 with 2 Axes>"
      ]
     },
     "metadata": {},
     "output_type": "display_data"
    }
   ],
   "source": [
    "temp = lr_cut.predict(X_test)\n",
    "result_report(y_test, temp, \"LR cut model\")"
   ]
  },
  {
   "cell_type": "markdown",
   "metadata": {},
   "source": [
    "both models show some kind of overfitting which is not surpricing, but the syntetic data seems be \"more\" overfitted."
   ]
  },
  {
   "cell_type": "markdown",
   "metadata": {},
   "source": [
    "Thus we will continue to use the manaully cut data so that our next models will perform generally better on real data"
   ]
  },
  {
   "cell_type": "markdown",
   "metadata": {},
   "source": [
    "What models to try\n",
    "https://www.quora.com/Which-machine-learning-algorithms-are-appropriate-for-numerical-categorical-or-both-values\n",
    "consensus seem to recommend Randomforest or a decision tree but LR and SVM are not suboptional.\n",
    "we will continue with LR and add Randomforest\n",
    "we will also try XGBoost which is a gradient-boosted decision tree\n",
    "https://www.nvidia.com/en-us/glossary/xgboost/\n",
    "we may aswell add an SVM model"
   ]
  },
  {
   "cell_type": "code",
   "execution_count": 41,
   "metadata": {},
   "outputs": [],
   "source": [
    "rfc = RandomForestClassifier(random_state=42)\n",
    "rfc.fit(X_train_cut, y_train_cut) \n",
    "rfc_pred = rfc.predict(X_test_cut)"
   ]
  },
  {
   "cell_type": "code",
   "execution_count": 42,
   "metadata": {},
   "outputs": [],
   "source": [
    "xgb_model = xgb.XGBClassifier(objective=\"binary:logistic\", random_state=42)\n",
    "#xbg.XGBRFClassifier() using randomforest https://xgboost.readthedocs.io/en/stable/tutorials/rf.html#\n",
    "xgb_model.fit(X_train_cut, y_train_cut)\n",
    "xgb_pred = xgb_model.predict(X_test_cut)"
   ]
  },
  {
   "cell_type": "code",
   "execution_count": 43,
   "metadata": {},
   "outputs": [],
   "source": [
    "# note using standardscaled data on svm makes training significatly slower\n",
    "\n",
    "svc = SVC(random_state=42)\n",
    "svc.fit(X_train_cut, y_train_cut)\n",
    "svc_pred = svc.predict(X_test_cut)"
   ]
  },
  {
   "cell_type": "code",
   "execution_count": 55,
   "metadata": {},
   "outputs": [
    {
     "name": "stdout",
     "output_type": "stream",
     "text": [
      "Classification Report:\n",
      "               precision    recall  f1-score   support\n",
      "\n",
      "       False       0.78      0.78      0.78      7395\n",
      "        True       0.68      0.68      0.68      5091\n",
      "\n",
      "    accuracy                           0.74     12486\n",
      "   macro avg       0.73      0.73      0.73     12486\n",
      "weighted avg       0.74      0.74      0.74     12486\n",
      "\n"
     ]
    },
    {
     "data": {
      "image/png": "[encoded data removed]",
      "text/plain": [
       "<Figure size 640x480 with 2 Axes>"
      ]
     },
     "metadata": {},
     "output_type": "display_data"
    },
    {
     "name": "stdout",
     "output_type": "stream",
     "text": [
      "Classification Report:\n",
      "               precision    recall  f1-score   support\n",
      "\n",
      "       False       0.79      0.78      0.78      7395\n",
      "        True       0.69      0.70      0.69      5091\n",
      "\n",
      "    accuracy                           0.75     12486\n",
      "   macro avg       0.74      0.74      0.74     12486\n",
      "weighted avg       0.75      0.75      0.75     12486\n",
      "\n"
     ]
    },
    {
     "data": {
      "image/png": "[encoded data removed]",
      "text/plain": [
       "<Figure size 640x480 with 2 Axes>"
      ]
     },
     "metadata": {},
     "output_type": "display_data"
    },
    {
     "name": "stdout",
     "output_type": "stream",
     "text": [
      "Classification Report:\n",
      "               precision    recall  f1-score   support\n",
      "\n",
      "       False       0.79      0.78      0.79      7395\n",
      "        True       0.69      0.70      0.70      5091\n",
      "\n",
      "    accuracy                           0.75     12486\n",
      "   macro avg       0.74      0.74      0.74     12486\n",
      "weighted avg       0.75      0.75      0.75     12486\n",
      "\n"
     ]
    },
    {
     "data": {
      "image/png": "[encoded data removed]",
      "text/plain": [
       "<Figure size 640x480 with 2 Axes>"
      ]
     },
     "metadata": {},
     "output_type": "display_data"
    },
    {
     "name": "stdout",
     "output_type": "stream",
     "text": [
      "Classification Report:\n",
      "               precision    recall  f1-score   support\n",
      "\n",
      "       False       0.79      0.81      0.80      7395\n",
      "        True       0.71      0.68      0.69      5091\n",
      "\n",
      "    accuracy                           0.76     12486\n",
      "   macro avg       0.75      0.74      0.75     12486\n",
      "weighted avg       0.75      0.76      0.75     12486\n",
      "\n"
     ]
    },
    {
     "data": {
      "image/png": "[encoded data removed]",
      "text/plain": [
       "<Figure size 640x480 with 2 Axes>"
      ]
     },
     "metadata": {},
     "output_type": "display_data"
    }
   ],
   "source": [
    "result_report(y_test_cut, rfc_pred, \"RFC model\")\n",
    "result_report(y_test_cut, xgb_pred, \"XGB model\")\n",
    "result_report(y_test_cut, svc_pred, \"SVC model\")\n",
    "result_report(y_test_cut, lr_cut_pred, \"LR model\")\n"
   ]
  },
  {
   "cell_type": "markdown",
   "metadata": {},
   "source": [
    "Note that all the models seems to perform at a simulare level"
   ]
  },
  {
   "cell_type": "markdown",
   "metadata": {},
   "source": [
    "The svm model did perfrom the best on predicting patient with heart disease but the difference is minuscule and might just be an affect from the chosen randomstate"
   ]
  },
  {
   "cell_type": "markdown",
   "metadata": {},
   "source": [
    "if we evaluate the models like we did the dataset we should go after macro avg f1 score and by that definiton the LR model wins"
   ]
  },
  {
   "cell_type": "markdown",
   "metadata": {},
   "source": [
    "- We will also test the models on the real dataset. note that the data the models trained on is limited by 60k and has been balanced.\n",
    "- the real dataset containes more than 300k and the test data is about 60k datapoints\n",
    "- the huge differnce between the dataset we trained on and the real is that the real dataset is imbalanced.\n",
    "- And as in real life the patient will be imblanced there will be less people who are sick and as such the model should be able to handle such data."
   ]
  },
  {
   "cell_type": "code",
   "execution_count": 53,
   "metadata": {},
   "outputs": [],
   "source": [
    "rfc_pred_test = rfc.predict(X_test)\n",
    "xgb_model_pred_test = xgb_model.predict(X_test)\n",
    "svc_pred_test = svc.predict(X_test)\n",
    "lr_cut_test = lr_cut.predict(X_test)"
   ]
  },
  {
   "cell_type": "code",
   "execution_count": 66,
   "metadata": {},
   "outputs": [
    {
     "name": "stdout",
     "output_type": "stream",
     "text": [
      "Classification Report:\n",
      "               precision    recall  f1-score   support\n",
      "\n",
      "       False       0.99      0.82      0.90     56774\n",
      "        True       0.31      0.92      0.46      4997\n",
      "\n",
      "    accuracy                           0.83     61771\n",
      "   macro avg       0.65      0.87      0.68     61771\n",
      "weighted avg       0.94      0.83      0.86     61771\n",
      "\n"
     ]
    },
    {
     "data": {
      "image/png": "[encoded data removed]",
      "text/plain": [
       "<Figure size 640x480 with 2 Axes>"
      ]
     },
     "metadata": {},
     "output_type": "display_data"
    },
    {
     "name": "stdout",
     "output_type": "stream",
     "text": [
      "Classification Report:\n",
      "               precision    recall  f1-score   support\n",
      "\n",
      "       False       0.97      0.79      0.87     56774\n",
      "        True       0.24      0.75      0.36      4997\n",
      "\n",
      "    accuracy                           0.78     61771\n",
      "   macro avg       0.60      0.77      0.61     61771\n",
      "weighted avg       0.91      0.78      0.83     61771\n",
      "\n"
     ]
    },
    {
     "data": {
      "image/png": "[encoded data removed]",
      "text/plain": [
       "<Figure size 640x480 with 2 Axes>"
      ]
     },
     "metadata": {},
     "output_type": "display_data"
    },
    {
     "name": "stdout",
     "output_type": "stream",
     "text": [
      "Classification Report:\n",
      "               precision    recall  f1-score   support\n",
      "\n",
      "       False       0.97      0.79      0.87     56774\n",
      "        True       0.23      0.72      0.35      4997\n",
      "\n",
      "    accuracy                           0.79     61771\n",
      "   macro avg       0.60      0.76      0.61     61771\n",
      "weighted avg       0.91      0.79      0.83     61771\n",
      "\n"
     ]
    },
    {
     "data": {
      "image/png": "[encoded data removed]",
      "text/plain": [
       "<Figure size 640x480 with 2 Axes>"
      ]
     },
     "metadata": {},
     "output_type": "display_data"
    },
    {
     "name": "stdout",
     "output_type": "stream",
     "text": [
      "Classification Report:\n",
      "               precision    recall  f1-score   support\n",
      "\n",
      "       False       0.97      0.82      0.88     56774\n",
      "        True       0.24      0.68      0.36      4997\n",
      "\n",
      "    accuracy                           0.80     61771\n",
      "   macro avg       0.61      0.75      0.62     61771\n",
      "weighted avg       0.91      0.80      0.84     61771\n",
      "\n"
     ]
    },
    {
     "data": {
      "image/png": "[encoded data removed]",
      "text/plain": [
       "<Figure size 640x480 with 2 Axes>"
      ]
     },
     "metadata": {},
     "output_type": "display_data"
    }
   ],
   "source": [
    "result_report(y_test,rfc_pred_test, \"RFC model\")\n",
    "result_report(y_test,xgb_model_pred_test, \"XGB model\")\n",
    "result_report(y_test,svc_pred_test, \"SVC model\")\n",
    "result_report(y_test,lr_cut_test, \"LR model\")"
   ]
  },
  {
   "cell_type": "code",
   "execution_count": 60,
   "metadata": {},
   "outputs": [],
   "source": [
    "#roc and auc curve\n",
    "rfc_fpr, rfc_tpr, _ = roc_curve(y_test, rfc_pred_test)\n",
    "rfc_auc = auc(rfc_fpr, rfc_tpr)\n",
    "xgb_model_fpr, xgb_model_tpr, _ = roc_curve(y_test, xgb_model_pred_test)\n",
    "xgb_model_auc = auc(xgb_model_fpr, xgb_model_tpr)\n",
    "svc_fpr, svc_tpr, _ = roc_curve(y_test, svc_pred_test)\n",
    "svc_auc = auc(svc_fpr, svc_tpr)\n",
    "lr_fpr, lr_tpr, _ = roc_curve(y_test, lr_cut_test)\n",
    "lr_auc = auc(lr_fpr, lr_tpr)"
   ]
  },
  {
   "cell_type": "code",
   "execution_count": 72,
   "metadata": {},
   "outputs": [
    {
     "data": {
      "application/vnd.plotly.v1+json": {
       "config": {
        "plotlyServerURL": "https://plot.ly"
       },
       "data": [
        {
         "line": {
          "color": "#180f3d"
         },
         "mode": "lines",
         "name": "Random Forest (AUC = 0.87)",
         "type": "scatter",
         "x": [
          0,
          0.1830063057033149,
          1
         ],
         "y": [
          0,
          0.9201520912547528,
          1
         ]
        },
        {
         "line": {
          "color": "#721f81"
         },
         "mode": "lines",
         "name": "XGBoost (AUC = 0.77)",
         "type": "scatter",
         "x": [
          0,
          0.21368936485010745,
          1
         ],
         "y": [
          0,
          0.7500500300180108,
          1
         ]
        },
        {
         "line": {
          "color": "#cd4071"
         },
         "mode": "lines",
         "name": "SVC (AUC = 0.76)",
         "type": "scatter",
         "x": [
          0,
          0.20711945608905485,
          1
         ],
         "y": [
          0,
          0.7200320192115269,
          1
         ]
        },
        {
         "line": {
          "color": "#fd9668"
         },
         "mode": "lines",
         "name": "Logistic Regression (AUC = 0.75)",
         "type": "scatter",
         "x": [
          0,
          0.18392221791665198,
          1
         ],
         "y": [
          0,
          0.6778066840104062,
          1
         ]
        }
       ],
       "layout": {
        "autosize": false,
        "height": 500,
        "legend": {
         "x": 0.7,
         "y": 0.2
        },
        "plot_bgcolor": "white",
        "shapes": [
         {
          "line": {
           "dash": "dash"
          },
          "type": "line",
          "x0": 0,
          "x1": 1,
          "y0": 0,
          "y1": 1
         }
        ],
        "template": {
         "data": {
          "bar": [
           {
            "error_x": {
             "color": "#2a3f5f"
            },
            "error_y": {
             "color": "#2a3f5f"
            },
            "marker": {
             "line": {
              "color": "#E5ECF6",
              "width": 0.5
             },
             "pattern": {
              "fillmode": "overlay",
              "size": 10,
              "solidity": 0.2
             }
            },
            "type": "bar"
           }
          ],
          "barpolar": [
           {
            "marker": {
             "line": {
              "color": "#E5ECF6",
              "width": 0.5
             },
             "pattern": {
              "fillmode": "overlay",
              "size": 10,
              "solidity": 0.2
             }
            },
            "type": "barpolar"
           }
          ],
          "carpet": [
           {
            "aaxis": {
             "endlinecolor": "#2a3f5f",
             "gridcolor": "white",
             "linecolor": "white",
             "minorgridcolor": "white",
             "startlinecolor": "#2a3f5f"
            },
            "baxis": {
             "endlinecolor": "#2a3f5f",
             "gridcolor": "white",
             "linecolor": "white",
             "minorgridcolor": "white",
             "startlinecolor": "#2a3f5f"
            },
            "type": "carpet"
           }
          ],
          "choropleth": [
           {
            "colorbar": {
             "outlinewidth": 0,
             "ticks": ""
            },
            "type": "choropleth"
           }
          ],
          "contour": [
           {
            "colorbar": {
             "outlinewidth": 0,
             "ticks": ""
            },
            "colorscale": [
             [
              0,
              "#0d0887"
             ],
             [
              0.1111111111111111,
              "#46039f"
             ],
             [
              0.2222222222222222,
              "#7201a8"
             ],
             [
              0.3333333333333333,
              "#9c179e"
             ],
             [
              0.4444444444444444,
              "#bd3786"
             ],
             [
              0.5555555555555556,
              "#d8576b"
             ],
             [
              0.6666666666666666,
              "#ed7953"
             ],
             [
              0.7777777777777778,
              "#fb9f3a"
             ],
             [
              0.8888888888888888,
              "#fdca26"
             ],
             [
              1,
              "#f0f921"
             ]
            ],
            "type": "contour"
           }
          ],
          "contourcarpet": [
           {
            "colorbar": {
             "outlinewidth": 0,
             "ticks": ""
            },
            "type": "contourcarpet"
           }
          ],
          "heatmap": [
           {
            "colorbar": {
             "outlinewidth": 0,
             "ticks": ""
            },
            "colorscale": [
             [
              0,
              "#0d0887"
             ],
             [
              0.1111111111111111,
              "#46039f"
             ],
             [
              0.2222222222222222,
              "#7201a8"
             ],
             [
              0.3333333333333333,
              "#9c179e"
             ],
             [
              0.4444444444444444,
              "#bd3786"
             ],
             [
              0.5555555555555556,
              "#d8576b"
             ],
             [
              0.6666666666666666,
              "#ed7953"
             ],
             [
              0.7777777777777778,
              "#fb9f3a"
             ],
             [
              0.8888888888888888,
              "#fdca26"
             ],
             [
              1,
              "#f0f921"
             ]
            ],
            "type": "heatmap"
           }
          ],
          "heatmapgl": [
           {
            "colorbar": {
             "outlinewidth": 0,
             "ticks": ""
            },
            "colorscale": [
             [
              0,
              "#0d0887"
             ],
             [
              0.1111111111111111,
              "#46039f"
             ],
             [
              0.2222222222222222,
              "#7201a8"
             ],
             [
              0.3333333333333333,
              "#9c179e"
             ],
             [
              0.4444444444444444,
              "#bd3786"
             ],
             [
              0.5555555555555556,
              "#d8576b"
             ],
             [
              0.6666666666666666,
              "#ed7953"
             ],
             [
              0.7777777777777778,
              "#fb9f3a"
             ],
             [
              0.8888888888888888,
              "#fdca26"
             ],
             [
              1,
              "#f0f921"
             ]
            ],
            "type": "heatmapgl"
           }
          ],
          "histogram": [
           {
            "marker": {
             "pattern": {
              "fillmode": "overlay",
              "size": 10,
              "solidity": 0.2
             }
            },
            "type": "histogram"
           }
          ],
          "histogram2d": [
           {
            "colorbar": {
             "outlinewidth": 0,
             "ticks": ""
            },
            "colorscale": [
             [
              0,
              "#0d0887"
             ],
             [
              0.1111111111111111,
              "#46039f"
             ],
             [
              0.2222222222222222,
              "#7201a8"
             ],
             [
              0.3333333333333333,
              "#9c179e"
             ],
             [
              0.4444444444444444,
              "#bd3786"
             ],
             [
              0.5555555555555556,
              "#d8576b"
             ],
             [
              0.6666666666666666,
              "#ed7953"
             ],
             [
              0.7777777777777778,
              "#fb9f3a"
             ],
             [
              0.8888888888888888,
              "#fdca26"
             ],
             [
              1,
              "#f0f921"
             ]
            ],
            "type": "histogram2d"
           }
          ],
          "histogram2dcontour": [
           {
            "colorbar": {
             "outlinewidth": 0,
             "ticks": ""
            },
            "colorscale": [
             [
              0,
              "#0d0887"
             ],
             [
              0.1111111111111111,
              "#46039f"
             ],
             [
              0.2222222222222222,
              "#7201a8"
             ],
             [
              0.3333333333333333,
              "#9c179e"
             ],
             [
              0.4444444444444444,
              "#bd3786"
             ],
             [
              0.5555555555555556,
              "#d8576b"
             ],
             [
              0.6666666666666666,
              "#ed7953"
             ],
             [
              0.7777777777777778,
              "#fb9f3a"
             ],
             [
              0.8888888888888888,
              "#fdca26"
             ],
             [
              1,
              "#f0f921"
             ]
            ],
            "type": "histogram2dcontour"
           }
          ],
          "mesh3d": [
           {
            "colorbar": {
             "outlinewidth": 0,
             "ticks": ""
            },
            "type": "mesh3d"
           }
          ],
          "parcoords": [
           {
            "line": {
             "colorbar": {
              "outlinewidth": 0,
              "ticks": ""
             }
            },
            "type": "parcoords"
           }
          ],
          "pie": [
           {
            "automargin": true,
            "type": "pie"
           }
          ],
          "scatter": [
           {
            "fillpattern": {
             "fillmode": "overlay",
             "size": 10,
             "solidity": 0.2
            },
            "type": "scatter"
           }
          ],
          "scatter3d": [
           {
            "line": {
             "colorbar": {
              "outlinewidth": 0,
              "ticks": ""
             }
            },
            "marker": {
             "colorbar": {
              "outlinewidth": 0,
              "ticks": ""
             }
            },
            "type": "scatter3d"
           }
          ],
          "scattercarpet": [
           {
            "marker": {
             "colorbar": {
              "outlinewidth": 0,
              "ticks": ""
             }
            },
            "type": "scattercarpet"
           }
          ],
          "scattergeo": [
           {
            "marker": {
             "colorbar": {
              "outlinewidth": 0,
              "ticks": ""
             }
            },
            "type": "scattergeo"
           }
          ],
          "scattergl": [
           {
            "marker": {
             "colorbar": {
              "outlinewidth": 0,
              "ticks": ""
             }
            },
            "type": "scattergl"
           }
          ],
          "scattermapbox": [
           {
            "marker": {
             "colorbar": {
              "outlinewidth": 0,
              "ticks": ""
             }
            },
            "type": "scattermapbox"
           }
          ],
          "scatterpolar": [
           {
            "marker": {
             "colorbar": {
              "outlinewidth": 0,
              "ticks": ""
             }
            },
            "type": "scatterpolar"
           }
          ],
          "scatterpolargl": [
           {
            "marker": {
             "colorbar": {
              "outlinewidth": 0,
              "ticks": ""
             }
            },
            "type": "scatterpolargl"
           }
          ],
          "scatterternary": [
           {
            "marker": {
             "colorbar": {
              "outlinewidth": 0,
              "ticks": ""
             }
            },
            "type": "scatterternary"
           }
          ],
          "surface": [
           {
            "colorbar": {
             "outlinewidth": 0,
             "ticks": ""
            },
            "colorscale": [
             [
              0,
              "#0d0887"
             ],
             [
              0.1111111111111111,
              "#46039f"
             ],
             [
              0.2222222222222222,
              "#7201a8"
             ],
             [
              0.3333333333333333,
              "#9c179e"
             ],
             [
              0.4444444444444444,
              "#bd3786"
             ],
             [
              0.5555555555555556,
              "#d8576b"
             ],
             [
              0.6666666666666666,
              "#ed7953"
             ],
             [
              0.7777777777777778,
              "#fb9f3a"
             ],
             [
              0.8888888888888888,
              "#fdca26"
             ],
             [
              1,
              "#f0f921"
             ]
            ],
            "type": "surface"
           }
          ],
          "table": [
           {
            "cells": {
             "fill": {
              "color": "#EBF0F8"
             },
             "line": {
              "color": "white"
             }
            },
            "header": {
             "fill": {
              "color": "#C8D4E3"
             },
             "line": {
              "color": "white"
             }
            },
            "type": "table"
           }
          ]
         },
         "layout": {
          "annotationdefaults": {
           "arrowcolor": "#2a3f5f",
           "arrowhead": 0,
           "arrowwidth": 1
          },
          "autotypenumbers": "strict",
          "coloraxis": {
           "colorbar": {
            "outlinewidth": 0,
            "ticks": ""
           }
          },
          "colorscale": {
           "diverging": [
            [
             0,
             "#8e0152"
            ],
            [
             0.1,
             "#c51b7d"
            ],
            [
             0.2,
             "#de77ae"
            ],
            [
             0.3,
             "#f1b6da"
            ],
            [
             0.4,
             "#fde0ef"
            ],
            [
             0.5,
             "#f7f7f7"
            ],
            [
             0.6,
             "#e6f5d0"
            ],
            [
             0.7,
             "#b8e186"
            ],
            [
             0.8,
             "#7fbc41"
            ],
            [
             0.9,
             "#4d9221"
            ],
            [
             1,
             "#276419"
            ]
           ],
           "sequential": [
            [
             0,
             "#0d0887"
            ],
            [
             0.1111111111111111,
             "#46039f"
            ],
            [
             0.2222222222222222,
             "#7201a8"
            ],
            [
             0.3333333333333333,
             "#9c179e"
            ],
            [
             0.4444444444444444,
             "#bd3786"
            ],
            [
             0.5555555555555556,
             "#d8576b"
            ],
            [
             0.6666666666666666,
             "#ed7953"
            ],
            [
             0.7777777777777778,
             "#fb9f3a"
            ],
            [
             0.8888888888888888,
             "#fdca26"
            ],
            [
             1,
             "#f0f921"
            ]
           ],
           "sequentialminus": [
            [
             0,
             "#0d0887"
            ],
            [
             0.1111111111111111,
             "#46039f"
            ],
            [
             0.2222222222222222,
             "#7201a8"
            ],
            [
             0.3333333333333333,
             "#9c179e"
            ],
            [
             0.4444444444444444,
             "#bd3786"
            ],
            [
             0.5555555555555556,
             "#d8576b"
            ],
            [
             0.6666666666666666,
             "#ed7953"
            ],
            [
             0.7777777777777778,
             "#fb9f3a"
            ],
            [
             0.8888888888888888,
             "#fdca26"
            ],
            [
             1,
             "#f0f921"
            ]
           ]
          },
          "colorway": [
           "#636efa",
           "#EF553B",
           "#00cc96",
           "#ab63fa",
           "#FFA15A",
           "#19d3f3",
           "#FF6692",
           "#B6E880",
           "#FF97FF",
           "#FECB52"
          ],
          "font": {
           "color": "#2a3f5f"
          },
          "geo": {
           "bgcolor": "white",
           "lakecolor": "white",
           "landcolor": "#E5ECF6",
           "showlakes": true,
           "showland": true,
           "subunitcolor": "white"
          },
          "hoverlabel": {
           "align": "left"
          },
          "hovermode": "closest",
          "mapbox": {
           "style": "light"
          },
          "paper_bgcolor": "white",
          "plot_bgcolor": "#E5ECF6",
          "polar": {
           "angularaxis": {
            "gridcolor": "white",
            "linecolor": "white",
            "ticks": ""
           },
           "bgcolor": "#E5ECF6",
           "radialaxis": {
            "gridcolor": "white",
            "linecolor": "white",
            "ticks": ""
           }
          },
          "scene": {
           "xaxis": {
            "backgroundcolor": "#E5ECF6",
            "gridcolor": "white",
            "gridwidth": 2,
            "linecolor": "white",
            "showbackground": true,
            "ticks": "",
            "zerolinecolor": "white"
           },
           "yaxis": {
            "backgroundcolor": "#E5ECF6",
            "gridcolor": "white",
            "gridwidth": 2,
            "linecolor": "white",
            "showbackground": true,
            "ticks": "",
            "zerolinecolor": "white"
           },
           "zaxis": {
            "backgroundcolor": "#E5ECF6",
            "gridcolor": "white",
            "gridwidth": 2,
            "linecolor": "white",
            "showbackground": true,
            "ticks": "",
            "zerolinecolor": "white"
           }
          },
          "shapedefaults": {
           "line": {
            "color": "#2a3f5f"
           }
          },
          "ternary": {
           "aaxis": {
            "gridcolor": "white",
            "linecolor": "white",
            "ticks": ""
           },
           "baxis": {
            "gridcolor": "white",
            "linecolor": "white",
            "ticks": ""
           },
           "bgcolor": "#E5ECF6",
           "caxis": {
            "gridcolor": "white",
            "linecolor": "white",
            "ticks": ""
           }
          },
          "title": {
           "x": 0.05
          },
          "xaxis": {
           "automargin": true,
           "gridcolor": "white",
           "linecolor": "white",
           "ticks": "",
           "title": {
            "standoff": 15
           },
           "zerolinecolor": "white",
           "zerolinewidth": 2
          },
          "yaxis": {
           "automargin": true,
           "gridcolor": "white",
           "linecolor": "white",
           "ticks": "",
           "title": {
            "standoff": 15
           },
           "zerolinecolor": "white",
           "zerolinewidth": 2
          }
         }
        },
        "title": {
         "text": "Receiver Operating Characteristic (ROC) Curve for Heart Disease"
        },
        "width": 900,
        "xaxis": {
         "title": {
          "text": "False Positive Rate"
         }
        },
        "yaxis": {
         "title": {
          "text": "True Positive Rate"
         }
        }
       }
      }
     },
     "metadata": {},
     "output_type": "display_data"
    }
   ],
   "source": [
    "fig = go.Figure()\n",
    "fig.add_trace(go.Scatter(x=rfc_fpr, y=rfc_tpr, mode='lines', name=f'Random Forest (AUC = {rfc_auc:.2f})', line=dict(color=colors[1])))\n",
    "fig.add_trace(go.Scatter(x=xgb_model_fpr, y=xgb_model_tpr, mode='lines', name=f'XGBoost (AUC = {xgb_model_auc:.2f})', line=dict(color=colors[3])))\n",
    "fig.add_trace(go.Scatter(x=svc_fpr, y=svc_tpr, mode='lines', name=f'SVC (AUC = {svc_auc:.2f})', line=dict(color=colors[5])))\n",
    "fig.add_trace(go.Scatter(x=lr_fpr, y=lr_tpr, mode='lines', name=f'Logistic Regression (AUC = {lr_auc:.2f})', line=dict(color=colors[7])))\n",
    "\n",
    "fig.add_shape(type='line', line=dict(dash='dash'), x0=0, x1=1, y0=0, y1=1)\n",
    "fig.update_layout(title='Receiver Operating Characteristic (ROC) Curve for Heart Disease', xaxis=dict(title='False Positive Rate'), yaxis=dict(title='True Positive Rate'), legend=dict(x=0.7, y=0.2), autosize=False, width=900, height=500, plot_bgcolor='white')\n",
    "fig.show()"
   ]
  },
  {
   "cell_type": "markdown",
   "metadata": {},
   "source": [
    "Note on this larger dataset the Randomforest model performed better on the real imbalanced dataset, which might imply that the model is more generalized"
   ]
  },
  {
   "cell_type": "markdown",
   "metadata": {},
   "source": [
    "# model optimization"
   ]
  },
  {
   "cell_type": "code",
   "execution_count": 36,
   "metadata": {},
   "outputs": [
    {
     "data": {
      "text/plain": [
       "{'bootstrap': True,\n",
       " 'ccp_alpha': 0.0,\n",
       " 'class_weight': None,\n",
       " 'criterion': 'gini',\n",
       " 'max_depth': None,\n",
       " 'max_features': 'sqrt',\n",
       " 'max_leaf_nodes': None,\n",
       " 'max_samples': None,\n",
       " 'min_impurity_decrease': 0.0,\n",
       " 'min_samples_leaf': 1,\n",
       " 'min_samples_split': 2,\n",
       " 'min_weight_fraction_leaf': 0.0,\n",
       " 'monotonic_cst': None,\n",
       " 'n_estimators': 100,\n",
       " 'n_jobs': None,\n",
       " 'oob_score': False,\n",
       " 'random_state': 42,\n",
       " 'verbose': 0,\n",
       " 'warm_start': False}"
      ]
     },
     "execution_count": 36,
     "metadata": {},
     "output_type": "execute_result"
    }
   ],
   "source": [
    "rfc.get_params()"
   ]
  },
  {
   "cell_type": "code",
   "execution_count": 92,
   "metadata": {},
   "outputs": [],
   "source": [
    "#find best params with grid search\n",
    "\n",
    "param_grid = {\n",
    "    \"n_estimators\": [100, 300],\n",
    "    \"max_depth\": [10, 20, None],\n",
    "    \"criterion\":[\"gini\", \"entropy\",],\n",
    "    \"min_samples_split\": [2, 5],\n",
    "    \"min_samples_leaf\": [1, 3],\n",
    "    \"max_features\": [\"log2\", \"sqrt\"],\n",
    "    \"bootstrap\": [True, False],\n",
    "    \"random_state\": [42]\n",
    "}\n",
    "\n",
    "rf = RandomForestClassifier()\n",
    "# test XGBoost RandomForestClassifier as xgboost uses gpu instead of cpu"
   ]
  },
  {
   "cell_type": "code",
   "execution_count": 93,
   "metadata": {},
   "outputs": [
    {
     "name": "stdout",
     "output_type": "stream",
     "text": [
      "Fitting 4 folds for each of 192 candidates, totalling 768 fits\n"
     ]
    },
    {
     "data": {
      "text/html": [
       "<style>#sk-container-id-5 {\n",
       "  /* Definition of color scheme common for light and dark mode */\n",
       "  --sklearn-color-text: black;\n",
       "  --sklearn-color-line: gray;\n",
       "  /* Definition of color scheme for unfitted estimators */\n",
       "  --sklearn-color-unfitted-level-0: #fff5e6;\n",
       "  --sklearn-color-unfitted-level-1: #f6e4d2;\n",
       "  --sklearn-color-unfitted-level-2: #ffe0b3;\n",
       "  --sklearn-color-unfitted-level-3: chocolate;\n",
       "  /* Definition of color scheme for fitted estimators */\n",
       "  --sklearn-color-fitted-level-0: #f0f8ff;\n",
       "  --sklearn-color-fitted-level-1: #d4ebff;\n",
       "  --sklearn-color-fitted-level-2: #b3dbfd;\n",
       "  --sklearn-color-fitted-level-3: cornflowerblue;\n",
       "\n",
       "  /* Specific color for light theme */\n",
       "  --sklearn-color-text-on-default-background: var(--sg-text-color, var(--theme-code-foreground, var(--jp-content-font-color1, black)));\n",
       "  --sklearn-color-background: var(--sg-background-color, var(--theme-background, var(--jp-layout-color0, white)));\n",
       "  --sklearn-color-border-box: var(--sg-text-color, var(--theme-code-foreground, var(--jp-content-font-color1, black)));\n",
       "  --sklearn-color-icon: #696969;\n",
       "\n",
       "  @media (prefers-color-scheme: dark) {\n",
       "    /* Redefinition of color scheme for dark theme */\n",
       "    --sklearn-color-text-on-default-background: var(--sg-text-color, var(--theme-code-foreground, var(--jp-content-font-color1, white)));\n",
       "    --sklearn-color-background: var(--sg-background-color, var(--theme-background, var(--jp-layout-color0, #111)));\n",
       "    --sklearn-color-border-box: var(--sg-text-color, var(--theme-code-foreground, var(--jp-content-font-color1, white)));\n",
       "    --sklearn-color-icon: #878787;\n",
       "  }\n",
       "}\n",
       "\n",
       "#sk-container-id-5 {\n",
       "  color: var(--sklearn-color-text);\n",
       "}\n",
       "\n",
       "#sk-container-id-5 pre {\n",
       "  padding: 0;\n",
       "}\n",
       "\n",
       "#sk-container-id-5 input.sk-hidden--visually {\n",
       "  border: 0;\n",
       "  clip: rect(1px 1px 1px 1px);\n",
       "  clip: rect(1px, 1px, 1px, 1px);\n",
       "  height: 1px;\n",
       "  margin: -1px;\n",
       "  overflow: hidden;\n",
       "  padding: 0;\n",
       "  position: absolute;\n",
       "  width: 1px;\n",
       "}\n",
       "\n",
       "#sk-container-id-5 div.sk-dashed-wrapped {\n",
       "  border: 1px dashed var(--sklearn-color-line);\n",
       "  margin: 0 0.4em 0.5em 0.4em;\n",
       "  box-sizing: border-box;\n",
       "  padding-bottom: 0.4em;\n",
       "  background-color: var(--sklearn-color-background);\n",
       "}\n",
       "\n",
       "#sk-container-id-5 div.sk-container {\n",
       "  /* jupyter's `normalize.less` sets `[hidden] { display: none; }`\n",
       "     but bootstrap.min.css set `[hidden] { display: none !important; }`\n",
       "     so we also need the `!important` here to be able to override the\n",
       "     default hidden behavior on the sphinx rendered scikit-learn.org.\n",
       "     See: https://github.com/scikit-learn/scikit-learn/issues/21755 */\n",
       "  display: inline-block !important;\n",
       "  position: relative;\n",
       "}\n",
       "\n",
       "#sk-container-id-5 div.sk-text-repr-fallback {\n",
       "  display: none;\n",
       "}\n",
       "\n",
       "div.sk-parallel-item,\n",
       "div.sk-serial,\n",
       "div.sk-item {\n",
       "  /* draw centered vertical line to link estimators */\n",
       "  background-image: linear-gradient(var(--sklearn-color-text-on-default-background), var(--sklearn-color-text-on-default-background));\n",
       "  background-size: 2px 100%;\n",
       "  background-repeat: no-repeat;\n",
       "  background-position: center center;\n",
       "}\n",
       "\n",
       "/* Parallel-specific style estimator block */\n",
       "\n",
       "#sk-container-id-5 div.sk-parallel-item::after {\n",
       "  content: \"\";\n",
       "  width: 100%;\n",
       "  border-bottom: 2px solid var(--sklearn-color-text-on-default-background);\n",
       "  flex-grow: 1;\n",
       "}\n",
       "\n",
       "#sk-container-id-5 div.sk-parallel {\n",
       "  display: flex;\n",
       "  align-items: stretch;\n",
       "  justify-content: center;\n",
       "  background-color: var(--sklearn-color-background);\n",
       "  position: relative;\n",
       "}\n",
       "\n",
       "#sk-container-id-5 div.sk-parallel-item {\n",
       "  display: flex;\n",
       "  flex-direction: column;\n",
       "}\n",
       "\n",
       "#sk-container-id-5 div.sk-parallel-item:first-child::after {\n",
       "  align-self: flex-end;\n",
       "  width: 50%;\n",
       "}\n",
       "\n",
       "#sk-container-id-5 div.sk-parallel-item:last-child::after {\n",
       "  align-self: flex-start;\n",
       "  width: 50%;\n",
       "}\n",
       "\n",
       "#sk-container-id-5 div.sk-parallel-item:only-child::after {\n",
       "  width: 0;\n",
       "}\n",
       "\n",
       "/* Serial-specific style estimator block */\n",
       "\n",
       "#sk-container-id-5 div.sk-serial {\n",
       "  display: flex;\n",
       "  flex-direction: column;\n",
       "  align-items: center;\n",
       "  background-color: var(--sklearn-color-background);\n",
       "  padding-right: 1em;\n",
       "  padding-left: 1em;\n",
       "}\n",
       "\n",
       "\n",
       "/* Toggleable style: style used for estimator/Pipeline/ColumnTransformer box that is\n",
       "clickable and can be expanded/collapsed.\n",
       "- Pipeline and ColumnTransformer use this feature and define the default style\n",
       "- Estimators will overwrite some part of the style using the `sk-estimator` class\n",
       "*/\n",
       "\n",
       "/* Pipeline and ColumnTransformer style (default) */\n",
       "\n",
       "#sk-container-id-5 div.sk-toggleable {\n",
       "  /* Default theme specific background. It is overwritten whether we have a\n",
       "  specific estimator or a Pipeline/ColumnTransformer */\n",
       "  background-color: var(--sklearn-color-background);\n",
       "}\n",
       "\n",
       "/* Toggleable label */\n",
       "#sk-container-id-5 label.sk-toggleable__label {\n",
       "  cursor: pointer;\n",
       "  display: block;\n",
       "  width: 100%;\n",
       "  margin-bottom: 0;\n",
       "  padding: 0.5em;\n",
       "  box-sizing: border-box;\n",
       "  text-align: center;\n",
       "}\n",
       "\n",
       "#sk-container-id-5 label.sk-toggleable__label-arrow:before {\n",
       "  /* Arrow on the left of the label */\n",
       "  content: \"▸\";\n",
       "  float: left;\n",
       "  margin-right: 0.25em;\n",
       "  color: var(--sklearn-color-icon);\n",
       "}\n",
       "\n",
       "#sk-container-id-5 label.sk-toggleable__label-arrow:hover:before {\n",
       "  color: var(--sklearn-color-text);\n",
       "}\n",
       "\n",
       "/* Toggleable content - dropdown */\n",
       "\n",
       "#sk-container-id-5 div.sk-toggleable__content {\n",
       "  max-height: 0;\n",
       "  max-width: 0;\n",
       "  overflow: hidden;\n",
       "  text-align: left;\n",
       "  /* unfitted */\n",
       "  background-color: var(--sklearn-color-unfitted-level-0);\n",
       "}\n",
       "\n",
       "#sk-container-id-5 div.sk-toggleable__content.fitted {\n",
       "  /* fitted */\n",
       "  background-color: var(--sklearn-color-fitted-level-0);\n",
       "}\n",
       "\n",
       "#sk-container-id-5 div.sk-toggleable__content pre {\n",
       "  margin: 0.2em;\n",
       "  border-radius: 0.25em;\n",
       "  color: var(--sklearn-color-text);\n",
       "  /* unfitted */\n",
       "  background-color: var(--sklearn-color-unfitted-level-0);\n",
       "}\n",
       "\n",
       "#sk-container-id-5 div.sk-toggleable__content.fitted pre {\n",
       "  /* unfitted */\n",
       "  background-color: var(--sklearn-color-fitted-level-0);\n",
       "}\n",
       "\n",
       "#sk-container-id-5 input.sk-toggleable__control:checked~div.sk-toggleable__content {\n",
       "  /* Expand drop-down */\n",
       "  max-height: 200px;\n",
       "  max-width: 100%;\n",
       "  overflow: auto;\n",
       "}\n",
       "\n",
       "#sk-container-id-5 input.sk-toggleable__control:checked~label.sk-toggleable__label-arrow:before {\n",
       "  content: \"▾\";\n",
       "}\n",
       "\n",
       "/* Pipeline/ColumnTransformer-specific style */\n",
       "\n",
       "#sk-container-id-5 div.sk-label input.sk-toggleable__control:checked~label.sk-toggleable__label {\n",
       "  color: var(--sklearn-color-text);\n",
       "  background-color: var(--sklearn-color-unfitted-level-2);\n",
       "}\n",
       "\n",
       "#sk-container-id-5 div.sk-label.fitted input.sk-toggleable__control:checked~label.sk-toggleable__label {\n",
       "  background-color: var(--sklearn-color-fitted-level-2);\n",
       "}\n",
       "\n",
       "/* Estimator-specific style */\n",
       "\n",
       "/* Colorize estimator box */\n",
       "#sk-container-id-5 div.sk-estimator input.sk-toggleable__control:checked~label.sk-toggleable__label {\n",
       "  /* unfitted */\n",
       "  background-color: var(--sklearn-color-unfitted-level-2);\n",
       "}\n",
       "\n",
       "#sk-container-id-5 div.sk-estimator.fitted input.sk-toggleable__control:checked~label.sk-toggleable__label {\n",
       "  /* fitted */\n",
       "  background-color: var(--sklearn-color-fitted-level-2);\n",
       "}\n",
       "\n",
       "#sk-container-id-5 div.sk-label label.sk-toggleable__label,\n",
       "#sk-container-id-5 div.sk-label label {\n",
       "  /* The background is the default theme color */\n",
       "  color: var(--sklearn-color-text-on-default-background);\n",
       "}\n",
       "\n",
       "/* On hover, darken the color of the background */\n",
       "#sk-container-id-5 div.sk-label:hover label.sk-toggleable__label {\n",
       "  color: var(--sklearn-color-text);\n",
       "  background-color: var(--sklearn-color-unfitted-level-2);\n",
       "}\n",
       "\n",
       "/* Label box, darken color on hover, fitted */\n",
       "#sk-container-id-5 div.sk-label.fitted:hover label.sk-toggleable__label.fitted {\n",
       "  color: var(--sklearn-color-text);\n",
       "  background-color: var(--sklearn-color-fitted-level-2);\n",
       "}\n",
       "\n",
       "/* Estimator label */\n",
       "\n",
       "#sk-container-id-5 div.sk-label label {\n",
       "  font-family: monospace;\n",
       "  font-weight: bold;\n",
       "  display: inline-block;\n",
       "  line-height: 1.2em;\n",
       "}\n",
       "\n",
       "#sk-container-id-5 div.sk-label-container {\n",
       "  text-align: center;\n",
       "}\n",
       "\n",
       "/* Estimator-specific */\n",
       "#sk-container-id-5 div.sk-estimator {\n",
       "  font-family: monospace;\n",
       "  border: 1px dotted var(--sklearn-color-border-box);\n",
       "  border-radius: 0.25em;\n",
       "  box-sizing: border-box;\n",
       "  margin-bottom: 0.5em;\n",
       "  /* unfitted */\n",
       "  background-color: var(--sklearn-color-unfitted-level-0);\n",
       "}\n",
       "\n",
       "#sk-container-id-5 div.sk-estimator.fitted {\n",
       "  /* fitted */\n",
       "  background-color: var(--sklearn-color-fitted-level-0);\n",
       "}\n",
       "\n",
       "/* on hover */\n",
       "#sk-container-id-5 div.sk-estimator:hover {\n",
       "  /* unfitted */\n",
       "  background-color: var(--sklearn-color-unfitted-level-2);\n",
       "}\n",
       "\n",
       "#sk-container-id-5 div.sk-estimator.fitted:hover {\n",
       "  /* fitted */\n",
       "  background-color: var(--sklearn-color-fitted-level-2);\n",
       "}\n",
       "\n",
       "/* Specification for estimator info (e.g. \"i\" and \"?\") */\n",
       "\n",
       "/* Common style for \"i\" and \"?\" */\n",
       "\n",
       ".sk-estimator-doc-link,\n",
       "a:link.sk-estimator-doc-link,\n",
       "a:visited.sk-estimator-doc-link {\n",
       "  float: right;\n",
       "  font-size: smaller;\n",
       "  line-height: 1em;\n",
       "  font-family: monospace;\n",
       "  background-color: var(--sklearn-color-background);\n",
       "  border-radius: 1em;\n",
       "  height: 1em;\n",
       "  width: 1em;\n",
       "  text-decoration: none !important;\n",
       "  margin-left: 1ex;\n",
       "  /* unfitted */\n",
       "  border: var(--sklearn-color-unfitted-level-1) 1pt solid;\n",
       "  color: var(--sklearn-color-unfitted-level-1);\n",
       "}\n",
       "\n",
       ".sk-estimator-doc-link.fitted,\n",
       "a:link.sk-estimator-doc-link.fitted,\n",
       "a:visited.sk-estimator-doc-link.fitted {\n",
       "  /* fitted */\n",
       "  border: var(--sklearn-color-fitted-level-1) 1pt solid;\n",
       "  color: var(--sklearn-color-fitted-level-1);\n",
       "}\n",
       "\n",
       "/* On hover */\n",
       "div.sk-estimator:hover .sk-estimator-doc-link:hover,\n",
       ".sk-estimator-doc-link:hover,\n",
       "div.sk-label-container:hover .sk-estimator-doc-link:hover,\n",
       ".sk-estimator-doc-link:hover {\n",
       "  /* unfitted */\n",
       "  background-color: var(--sklearn-color-unfitted-level-3);\n",
       "  color: var(--sklearn-color-background);\n",
       "  text-decoration: none;\n",
       "}\n",
       "\n",
       "div.sk-estimator.fitted:hover .sk-estimator-doc-link.fitted:hover,\n",
       ".sk-estimator-doc-link.fitted:hover,\n",
       "div.sk-label-container:hover .sk-estimator-doc-link.fitted:hover,\n",
       ".sk-estimator-doc-link.fitted:hover {\n",
       "  /* fitted */\n",
       "  background-color: var(--sklearn-color-fitted-level-3);\n",
       "  color: var(--sklearn-color-background);\n",
       "  text-decoration: none;\n",
       "}\n",
       "\n",
       "/* Span, style for the box shown on hovering the info icon */\n",
       ".sk-estimator-doc-link span {\n",
       "  display: none;\n",
       "  z-index: 9999;\n",
       "  position: relative;\n",
       "  font-weight: normal;\n",
       "  right: .2ex;\n",
       "  padding: .5ex;\n",
       "  margin: .5ex;\n",
       "  width: min-content;\n",
       "  min-width: 20ex;\n",
       "  max-width: 50ex;\n",
       "  color: var(--sklearn-color-text);\n",
       "  box-shadow: 2pt 2pt 4pt #999;\n",
       "  /* unfitted */\n",
       "  background: var(--sklearn-color-unfitted-level-0);\n",
       "  border: .5pt solid var(--sklearn-color-unfitted-level-3);\n",
       "}\n",
       "\n",
       ".sk-estimator-doc-link.fitted span {\n",
       "  /* fitted */\n",
       "  background: var(--sklearn-color-fitted-level-0);\n",
       "  border: var(--sklearn-color-fitted-level-3);\n",
       "}\n",
       "\n",
       ".sk-estimator-doc-link:hover span {\n",
       "  display: block;\n",
       "}\n",
       "\n",
       "/* \"?\"-specific style due to the `<a>` HTML tag */\n",
       "\n",
       "#sk-container-id-5 a.estimator_doc_link {\n",
       "  float: right;\n",
       "  font-size: 1rem;\n",
       "  line-height: 1em;\n",
       "  font-family: monospace;\n",
       "  background-color: var(--sklearn-color-background);\n",
       "  border-radius: 1rem;\n",
       "  height: 1rem;\n",
       "  width: 1rem;\n",
       "  text-decoration: none;\n",
       "  /* unfitted */\n",
       "  color: var(--sklearn-color-unfitted-level-1);\n",
       "  border: var(--sklearn-color-unfitted-level-1) 1pt solid;\n",
       "}\n",
       "\n",
       "#sk-container-id-5 a.estimator_doc_link.fitted {\n",
       "  /* fitted */\n",
       "  border: var(--sklearn-color-fitted-level-1) 1pt solid;\n",
       "  color: var(--sklearn-color-fitted-level-1);\n",
       "}\n",
       "\n",
       "/* On hover */\n",
       "#sk-container-id-5 a.estimator_doc_link:hover {\n",
       "  /* unfitted */\n",
       "  background-color: var(--sklearn-color-unfitted-level-3);\n",
       "  color: var(--sklearn-color-background);\n",
       "  text-decoration: none;\n",
       "}\n",
       "\n",
       "#sk-container-id-5 a.estimator_doc_link.fitted:hover {\n",
       "  /* fitted */\n",
       "  background-color: var(--sklearn-color-fitted-level-3);\n",
       "}\n",
       "</style><div id=\"sk-container-id-5\" class=\"sk-top-container\"><div class=\"sk-text-repr-fallback\"><pre>GridSearchCV(cv=4, estimator=RandomForestClassifier(), n_jobs=-1,\n",
       "             param_grid={&#x27;bootstrap&#x27;: [True, False],\n",
       "                         &#x27;criterion&#x27;: [&#x27;gini&#x27;, &#x27;entropy&#x27;],\n",
       "                         &#x27;max_depth&#x27;: [10, 20, None],\n",
       "                         &#x27;max_features&#x27;: [&#x27;log2&#x27;, &#x27;sqrt&#x27;],\n",
       "                         &#x27;min_samples_leaf&#x27;: [1, 3],\n",
       "                         &#x27;min_samples_split&#x27;: [2, 5],\n",
       "                         &#x27;n_estimators&#x27;: [100, 300], &#x27;random_state&#x27;: [42]},\n",
       "             scoring=&#x27;roc_auc&#x27;, verbose=3)</pre><b>In a Jupyter environment, please rerun this cell to show the HTML representation or trust the notebook. <br />On GitHub, the HTML representation is unable to render, please try loading this page with nbviewer.org.</b></div><div class=\"sk-container\" hidden><div class=\"sk-item sk-dashed-wrapped\"><div class=\"sk-label-container\"><div class=\"sk-label fitted sk-toggleable\"><input class=\"sk-toggleable__control sk-hidden--visually\" id=\"sk-estimator-id-13\" type=\"checkbox\" ><label for=\"sk-estimator-id-13\" class=\"sk-toggleable__label fitted sk-toggleable__label-arrow fitted\">&nbsp;&nbsp;GridSearchCV<a class=\"sk-estimator-doc-link fitted\" rel=\"noreferrer\" target=\"_blank\" href=\"https://scikit-learn.org/1.5/modules/generated/sklearn.model_selection.GridSearchCV.html\">?<span>Documentation for GridSearchCV</span></a><span class=\"sk-estimator-doc-link fitted\">i<span>Fitted</span></span></label><div class=\"sk-toggleable__content fitted\"><pre>GridSearchCV(cv=4, estimator=RandomForestClassifier(), n_jobs=-1,\n",
       "             param_grid={&#x27;bootstrap&#x27;: [True, False],\n",
       "                         &#x27;criterion&#x27;: [&#x27;gini&#x27;, &#x27;entropy&#x27;],\n",
       "                         &#x27;max_depth&#x27;: [10, 20, None],\n",
       "                         &#x27;max_features&#x27;: [&#x27;log2&#x27;, &#x27;sqrt&#x27;],\n",
       "                         &#x27;min_samples_leaf&#x27;: [1, 3],\n",
       "                         &#x27;min_samples_split&#x27;: [2, 5],\n",
       "                         &#x27;n_estimators&#x27;: [100, 300], &#x27;random_state&#x27;: [42]},\n",
       "             scoring=&#x27;roc_auc&#x27;, verbose=3)</pre></div> </div></div><div class=\"sk-parallel\"><div class=\"sk-parallel-item\"><div class=\"sk-item\"><div class=\"sk-label-container\"><div class=\"sk-label fitted sk-toggleable\"><input class=\"sk-toggleable__control sk-hidden--visually\" id=\"sk-estimator-id-14\" type=\"checkbox\" ><label for=\"sk-estimator-id-14\" class=\"sk-toggleable__label fitted sk-toggleable__label-arrow fitted\">best_estimator_: RandomForestClassifier</label><div class=\"sk-toggleable__content fitted\"><pre>RandomForestClassifier(criterion=&#x27;entropy&#x27;, max_depth=20, max_features=&#x27;log2&#x27;,\n",
       "                       min_samples_leaf=3, n_estimators=300, random_state=42)</pre></div> </div></div><div class=\"sk-serial\"><div class=\"sk-item\"><div class=\"sk-estimator fitted sk-toggleable\"><input class=\"sk-toggleable__control sk-hidden--visually\" id=\"sk-estimator-id-15\" type=\"checkbox\" ><label for=\"sk-estimator-id-15\" class=\"sk-toggleable__label fitted sk-toggleable__label-arrow fitted\">&nbsp;RandomForestClassifier<a class=\"sk-estimator-doc-link fitted\" rel=\"noreferrer\" target=\"_blank\" href=\"https://scikit-learn.org/1.5/modules/generated/sklearn.ensemble.RandomForestClassifier.html\">?<span>Documentation for RandomForestClassifier</span></a></label><div class=\"sk-toggleable__content fitted\"><pre>RandomForestClassifier(criterion=&#x27;entropy&#x27;, max_depth=20, max_features=&#x27;log2&#x27;,\n",
       "                       min_samples_leaf=3, n_estimators=300, random_state=42)</pre></div> </div></div></div></div></div></div></div></div></div>"
      ],
      "text/plain": [
       "GridSearchCV(cv=4, estimator=RandomForestClassifier(), n_jobs=-1,\n",
       "             param_grid={'bootstrap': [True, False],\n",
       "                         'criterion': ['gini', 'entropy'],\n",
       "                         'max_depth': [10, 20, None],\n",
       "                         'max_features': ['log2', 'sqrt'],\n",
       "                         'min_samples_leaf': [1, 3],\n",
       "                         'min_samples_split': [2, 5],\n",
       "                         'n_estimators': [100, 300], 'random_state': [42]},\n",
       "             scoring='roc_auc', verbose=3)"
      ]
     },
     "execution_count": 93,
     "metadata": {},
     "output_type": "execute_result"
    }
   ],
   "source": [
    "grid_search = GridSearchCV(estimator=rf, param_grid=param_grid, cv=4, n_jobs=-1, verbose=3,scoring='roc_auc')\n",
    "\n",
    "grid_search.fit(X_train_cut, y_train_cut)"
   ]
  },
  {
   "cell_type": "code",
   "execution_count": 94,
   "metadata": {},
   "outputs": [
    {
     "name": "stdout",
     "output_type": "stream",
     "text": [
      "{'bootstrap': True, 'criterion': 'entropy', 'max_depth': 20, 'max_features': 'log2', 'min_samples_leaf': 3, 'min_samples_split': 2, 'n_estimators': 300, 'random_state': 42}\n"
     ]
    }
   ],
   "source": [
    "# Best parameters\n",
    "print(grid_search.best_params_)"
   ]
  },
  {
   "cell_type": "code",
   "execution_count": 95,
   "metadata": {},
   "outputs": [],
   "source": [
    "grid_pred = grid_search.best_estimator_.predict(X_test)"
   ]
  },
  {
   "cell_type": "code",
   "execution_count": 96,
   "metadata": {},
   "outputs": [
    {
     "name": "stdout",
     "output_type": "stream",
     "text": [
      "Classification Report:\n",
      "               precision    recall  f1-score   support\n",
      "\n",
      "       False       0.98      0.81      0.88     56774\n",
      "        True       0.26      0.78      0.39      4997\n",
      "\n",
      "    accuracy                           0.81     61771\n",
      "   macro avg       0.62      0.79      0.64     61771\n",
      "weighted avg       0.92      0.81      0.85     61771\n",
      "\n"
     ]
    },
    {
     "data": {
      "image/png": "[encoded data removed]",
      "text/plain": [
       "<Figure size 640x480 with 2 Axes>"
      ]
     },
     "metadata": {},
     "output_type": "display_data"
    },
    {
     "name": "stdout",
     "output_type": "stream",
     "text": [
      "Classification Report:\n",
      "               precision    recall  f1-score   support\n",
      "\n",
      "       False       0.99      0.82      0.90     56774\n",
      "        True       0.31      0.92      0.46      4997\n",
      "\n",
      "    accuracy                           0.83     61771\n",
      "   macro avg       0.65      0.87      0.68     61771\n",
      "weighted avg       0.94      0.83      0.86     61771\n",
      "\n"
     ]
    },
    {
     "data": {
      "image/png": "[encoded data removed]",
      "text/plain": [
       "<Figure size 640x480 with 2 Axes>"
      ]
     },
     "metadata": {},
     "output_type": "display_data"
    }
   ],
   "source": [
    "result_report(y_test,grid_pred, \"grid rfc model\")\n",
    "result_report(y_test,rfc_pred_test, \"RFC model\")"
   ]
  },
  {
   "cell_type": "code",
   "execution_count": 97,
   "metadata": {},
   "outputs": [],
   "source": [
    "grid_pred_temp = grid_search.best_estimator_.predict(X_train)\n",
    "rfc_pred_temp = rfc.predict(X_train)"
   ]
  },
  {
   "cell_type": "code",
   "execution_count": 100,
   "metadata": {},
   "outputs": [
    {
     "name": "stdout",
     "output_type": "stream",
     "text": [
      "Classification Report:\n",
      "               precision    recall  f1-score   support\n",
      "\n",
      "       False       0.98      0.81      0.88    227109\n",
      "        True       0.26      0.78      0.39     19974\n",
      "\n",
      "    accuracy                           0.81    247083\n",
      "   macro avg       0.62      0.79      0.64    247083\n",
      "weighted avg       0.92      0.81      0.84    247083\n",
      "\n"
     ]
    },
    {
     "data": {
      "image/png": "[encoded data removed]",
      "text/plain": [
       "<Figure size 640x480 with 2 Axes>"
      ]
     },
     "metadata": {},
     "output_type": "display_data"
    },
    {
     "name": "stdout",
     "output_type": "stream",
     "text": [
      "Classification Report:\n",
      "               precision    recall  f1-score   support\n",
      "\n",
      "       False       0.99      0.82      0.90    227109\n",
      "        True       0.31      0.93      0.46     19974\n",
      "\n",
      "    accuracy                           0.82    247083\n",
      "   macro avg       0.65      0.87      0.68    247083\n",
      "weighted avg       0.94      0.82      0.86    247083\n",
      "\n"
     ]
    },
    {
     "data": {
      "image/png": "[encoded data removed]",
      "text/plain": [
       "<Figure size 640x480 with 2 Axes>"
      ]
     },
     "metadata": {},
     "output_type": "display_data"
    }
   ],
   "source": [
    "result_report(y_train,grid_pred_temp, \"Grid RFC model\")\n",
    "result_report(y_train,rfc_pred_temp, \"RFC model\")"
   ]
  },
  {
   "cell_type": "code",
   "execution_count": 103,
   "metadata": {},
   "outputs": [
    {
     "data": {
      "application/vnd.plotly.v1+json": {
       "config": {
        "plotlyServerURL": "https://plot.ly"
       },
       "data": [
        {
         "line": {
          "color": "#180f3d"
         },
         "mode": "lines",
         "name": "Random Forest (AUC = 0.87)",
         "type": "scatter",
         "x": [
          0,
          0.18403057562668146,
          1
         ],
         "y": [
          0,
          0.9259036747772104,
          1
         ]
        },
        {
         "line": {
          "color": "#721f81"
         },
         "mode": "lines",
         "name": "Gridsearch Random Forest (AUC = 0.79)",
         "type": "scatter",
         "x": [
          0,
          0.19161283788841482,
          1
         ],
         "y": [
          0,
          0.7800640833083008,
          1
         ]
        }
       ],
       "layout": {
        "autosize": false,
        "height": 500,
        "legend": {
         "x": 0.7,
         "y": 0.2
        },
        "plot_bgcolor": "white",
        "shapes": [
         {
          "line": {
           "dash": "dash"
          },
          "type": "line",
          "x0": 0,
          "x1": 1,
          "y0": 0,
          "y1": 1
         }
        ],
        "template": {
         "data": {
          "bar": [
           {
            "error_x": {
             "color": "#2a3f5f"
            },
            "error_y": {
             "color": "#2a3f5f"
            },
            "marker": {
             "line": {
              "color": "#E5ECF6",
              "width": 0.5
             },
             "pattern": {
              "fillmode": "overlay",
              "size": 10,
              "solidity": 0.2
             }
            },
            "type": "bar"
           }
          ],
          "barpolar": [
           {
            "marker": {
             "line": {
              "color": "#E5ECF6",
              "width": 0.5
             },
             "pattern": {
              "fillmode": "overlay",
              "size": 10,
              "solidity": 0.2
             }
            },
            "type": "barpolar"
           }
          ],
          "carpet": [
           {
            "aaxis": {
             "endlinecolor": "#2a3f5f",
             "gridcolor": "white",
             "linecolor": "white",
             "minorgridcolor": "white",
             "startlinecolor": "#2a3f5f"
            },
            "baxis": {
             "endlinecolor": "#2a3f5f",
             "gridcolor": "white",
             "linecolor": "white",
             "minorgridcolor": "white",
             "startlinecolor": "#2a3f5f"
            },
            "type": "carpet"
           }
          ],
          "choropleth": [
           {
            "colorbar": {
             "outlinewidth": 0,
             "ticks": ""
            },
            "type": "choropleth"
           }
          ],
          "contour": [
           {
            "colorbar": {
             "outlinewidth": 0,
             "ticks": ""
            },
            "colorscale": [
             [
              0,
              "#0d0887"
             ],
             [
              0.1111111111111111,
              "#46039f"
             ],
             [
              0.2222222222222222,
              "#7201a8"
             ],
             [
              0.3333333333333333,
              "#9c179e"
             ],
             [
              0.4444444444444444,
              "#bd3786"
             ],
             [
              0.5555555555555556,
              "#d8576b"
             ],
             [
              0.6666666666666666,
              "#ed7953"
             ],
             [
              0.7777777777777778,
              "#fb9f3a"
             ],
             [
              0.8888888888888888,
              "#fdca26"
             ],
             [
              1,
              "#f0f921"
             ]
            ],
            "type": "contour"
           }
          ],
          "contourcarpet": [
           {
            "colorbar": {
             "outlinewidth": 0,
             "ticks": ""
            },
            "type": "contourcarpet"
           }
          ],
          "heatmap": [
           {
            "colorbar": {
             "outlinewidth": 0,
             "ticks": ""
            },
            "colorscale": [
             [
              0,
              "#0d0887"
             ],
             [
              0.1111111111111111,
              "#46039f"
             ],
             [
              0.2222222222222222,
              "#7201a8"
             ],
             [
              0.3333333333333333,
              "#9c179e"
             ],
             [
              0.4444444444444444,
              "#bd3786"
             ],
             [
              0.5555555555555556,
              "#d8576b"
             ],
             [
              0.6666666666666666,
              "#ed7953"
             ],
             [
              0.7777777777777778,
              "#fb9f3a"
             ],
             [
              0.8888888888888888,
              "#fdca26"
             ],
             [
              1,
              "#f0f921"
             ]
            ],
            "type": "heatmap"
           }
          ],
          "heatmapgl": [
           {
            "colorbar": {
             "outlinewidth": 0,
             "ticks": ""
            },
            "colorscale": [
             [
              0,
              "#0d0887"
             ],
             [
              0.1111111111111111,
              "#46039f"
             ],
             [
              0.2222222222222222,
              "#7201a8"
             ],
             [
              0.3333333333333333,
              "#9c179e"
             ],
             [
              0.4444444444444444,
              "#bd3786"
             ],
             [
              0.5555555555555556,
              "#d8576b"
             ],
             [
              0.6666666666666666,
              "#ed7953"
             ],
             [
              0.7777777777777778,
              "#fb9f3a"
             ],
             [
              0.8888888888888888,
              "#fdca26"
             ],
             [
              1,
              "#f0f921"
             ]
            ],
            "type": "heatmapgl"
           }
          ],
          "histogram": [
           {
            "marker": {
             "pattern": {
              "fillmode": "overlay",
              "size": 10,
              "solidity": 0.2
             }
            },
            "type": "histogram"
           }
          ],
          "histogram2d": [
           {
            "colorbar": {
             "outlinewidth": 0,
             "ticks": ""
            },
            "colorscale": [
             [
              0,
              "#0d0887"
             ],
             [
              0.1111111111111111,
              "#46039f"
             ],
             [
              0.2222222222222222,
              "#7201a8"
             ],
             [
              0.3333333333333333,
              "#9c179e"
             ],
             [
              0.4444444444444444,
              "#bd3786"
             ],
             [
              0.5555555555555556,
              "#d8576b"
             ],
             [
              0.6666666666666666,
              "#ed7953"
             ],
             [
              0.7777777777777778,
              "#fb9f3a"
             ],
             [
              0.8888888888888888,
              "#fdca26"
             ],
             [
              1,
              "#f0f921"
             ]
            ],
            "type": "histogram2d"
           }
          ],
          "histogram2dcontour": [
           {
            "colorbar": {
             "outlinewidth": 0,
             "ticks": ""
            },
            "colorscale": [
             [
              0,
              "#0d0887"
             ],
             [
              0.1111111111111111,
              "#46039f"
             ],
             [
              0.2222222222222222,
              "#7201a8"
             ],
             [
              0.3333333333333333,
              "#9c179e"
             ],
             [
              0.4444444444444444,
              "#bd3786"
             ],
             [
              0.5555555555555556,
              "#d8576b"
             ],
             [
              0.6666666666666666,
              "#ed7953"
             ],
             [
              0.7777777777777778,
              "#fb9f3a"
             ],
             [
              0.8888888888888888,
              "#fdca26"
             ],
             [
              1,
              "#f0f921"
             ]
            ],
            "type": "histogram2dcontour"
           }
          ],
          "mesh3d": [
           {
            "colorbar": {
             "outlinewidth": 0,
             "ticks": ""
            },
            "type": "mesh3d"
           }
          ],
          "parcoords": [
           {
            "line": {
             "colorbar": {
              "outlinewidth": 0,
              "ticks": ""
             }
            },
            "type": "parcoords"
           }
          ],
          "pie": [
           {
            "automargin": true,
            "type": "pie"
           }
          ],
          "scatter": [
           {
            "fillpattern": {
             "fillmode": "overlay",
             "size": 10,
             "solidity": 0.2
            },
            "type": "scatter"
           }
          ],
          "scatter3d": [
           {
            "line": {
             "colorbar": {
              "outlinewidth": 0,
              "ticks": ""
             }
            },
            "marker": {
             "colorbar": {
              "outlinewidth": 0,
              "ticks": ""
             }
            },
            "type": "scatter3d"
           }
          ],
          "scattercarpet": [
           {
            "marker": {
             "colorbar": {
              "outlinewidth": 0,
              "ticks": ""
             }
            },
            "type": "scattercarpet"
           }
          ],
          "scattergeo": [
           {
            "marker": {
             "colorbar": {
              "outlinewidth": 0,
              "ticks": ""
             }
            },
            "type": "scattergeo"
           }
          ],
          "scattergl": [
           {
            "marker": {
             "colorbar": {
              "outlinewidth": 0,
              "ticks": ""
             }
            },
            "type": "scattergl"
           }
          ],
          "scattermapbox": [
           {
            "marker": {
             "colorbar": {
              "outlinewidth": 0,
              "ticks": ""
             }
            },
            "type": "scattermapbox"
           }
          ],
          "scatterpolar": [
           {
            "marker": {
             "colorbar": {
              "outlinewidth": 0,
              "ticks": ""
             }
            },
            "type": "scatterpolar"
           }
          ],
          "scatterpolargl": [
           {
            "marker": {
             "colorbar": {
              "outlinewidth": 0,
              "ticks": ""
             }
            },
            "type": "scatterpolargl"
           }
          ],
          "scatterternary": [
           {
            "marker": {
             "colorbar": {
              "outlinewidth": 0,
              "ticks": ""
             }
            },
            "type": "scatterternary"
           }
          ],
          "surface": [
           {
            "colorbar": {
             "outlinewidth": 0,
             "ticks": ""
            },
            "colorscale": [
             [
              0,
              "#0d0887"
             ],
             [
              0.1111111111111111,
              "#46039f"
             ],
             [
              0.2222222222222222,
              "#7201a8"
             ],
             [
              0.3333333333333333,
              "#9c179e"
             ],
             [
              0.4444444444444444,
              "#bd3786"
             ],
             [
              0.5555555555555556,
              "#d8576b"
             ],
             [
              0.6666666666666666,
              "#ed7953"
             ],
             [
              0.7777777777777778,
              "#fb9f3a"
             ],
             [
              0.8888888888888888,
              "#fdca26"
             ],
             [
              1,
              "#f0f921"
             ]
            ],
            "type": "surface"
           }
          ],
          "table": [
           {
            "cells": {
             "fill": {
              "color": "#EBF0F8"
             },
             "line": {
              "color": "white"
             }
            },
            "header": {
             "fill": {
              "color": "#C8D4E3"
             },
             "line": {
              "color": "white"
             }
            },
            "type": "table"
           }
          ]
         },
         "layout": {
          "annotationdefaults": {
           "arrowcolor": "#2a3f5f",
           "arrowhead": 0,
           "arrowwidth": 1
          },
          "autotypenumbers": "strict",
          "coloraxis": {
           "colorbar": {
            "outlinewidth": 0,
            "ticks": ""
           }
          },
          "colorscale": {
           "diverging": [
            [
             0,
             "#8e0152"
            ],
            [
             0.1,
             "#c51b7d"
            ],
            [
             0.2,
             "#de77ae"
            ],
            [
             0.3,
             "#f1b6da"
            ],
            [
             0.4,
             "#fde0ef"
            ],
            [
             0.5,
             "#f7f7f7"
            ],
            [
             0.6,
             "#e6f5d0"
            ],
            [
             0.7,
             "#b8e186"
            ],
            [
             0.8,
             "#7fbc41"
            ],
            [
             0.9,
             "#4d9221"
            ],
            [
             1,
             "#276419"
            ]
           ],
           "sequential": [
            [
             0,
             "#0d0887"
            ],
            [
             0.1111111111111111,
             "#46039f"
            ],
            [
             0.2222222222222222,
             "#7201a8"
            ],
            [
             0.3333333333333333,
             "#9c179e"
            ],
            [
             0.4444444444444444,
             "#bd3786"
            ],
            [
             0.5555555555555556,
             "#d8576b"
            ],
            [
             0.6666666666666666,
             "#ed7953"
            ],
            [
             0.7777777777777778,
             "#fb9f3a"
            ],
            [
             0.8888888888888888,
             "#fdca26"
            ],
            [
             1,
             "#f0f921"
            ]
           ],
           "sequentialminus": [
            [
             0,
             "#0d0887"
            ],
            [
             0.1111111111111111,
             "#46039f"
            ],
            [
             0.2222222222222222,
             "#7201a8"
            ],
            [
             0.3333333333333333,
             "#9c179e"
            ],
            [
             0.4444444444444444,
             "#bd3786"
            ],
            [
             0.5555555555555556,
             "#d8576b"
            ],
            [
             0.6666666666666666,
             "#ed7953"
            ],
            [
             0.7777777777777778,
             "#fb9f3a"
            ],
            [
             0.8888888888888888,
             "#fdca26"
            ],
            [
             1,
             "#f0f921"
            ]
           ]
          },
          "colorway": [
           "#636efa",
           "#EF553B",
           "#00cc96",
           "#ab63fa",
           "#FFA15A",
           "#19d3f3",
           "#FF6692",
           "#B6E880",
           "#FF97FF",
           "#FECB52"
          ],
          "font": {
           "color": "#2a3f5f"
          },
          "geo": {
           "bgcolor": "white",
           "lakecolor": "white",
           "landcolor": "#E5ECF6",
           "showlakes": true,
           "showland": true,
           "subunitcolor": "white"
          },
          "hoverlabel": {
           "align": "left"
          },
          "hovermode": "closest",
          "mapbox": {
           "style": "light"
          },
          "paper_bgcolor": "white",
          "plot_bgcolor": "#E5ECF6",
          "polar": {
           "angularaxis": {
            "gridcolor": "white",
            "linecolor": "white",
            "ticks": ""
           },
           "bgcolor": "#E5ECF6",
           "radialaxis": {
            "gridcolor": "white",
            "linecolor": "white",
            "ticks": ""
           }
          },
          "scene": {
           "xaxis": {
            "backgroundcolor": "#E5ECF6",
            "gridcolor": "white",
            "gridwidth": 2,
            "linecolor": "white",
            "showbackground": true,
            "ticks": "",
            "zerolinecolor": "white"
           },
           "yaxis": {
            "backgroundcolor": "#E5ECF6",
            "gridcolor": "white",
            "gridwidth": 2,
            "linecolor": "white",
            "showbackground": true,
            "ticks": "",
            "zerolinecolor": "white"
           },
           "zaxis": {
            "backgroundcolor": "#E5ECF6",
            "gridcolor": "white",
            "gridwidth": 2,
            "linecolor": "white",
            "showbackground": true,
            "ticks": "",
            "zerolinecolor": "white"
           }
          },
          "shapedefaults": {
           "line": {
            "color": "#2a3f5f"
           }
          },
          "ternary": {
           "aaxis": {
            "gridcolor": "white",
            "linecolor": "white",
            "ticks": ""
           },
           "baxis": {
            "gridcolor": "white",
            "linecolor": "white",
            "ticks": ""
           },
           "bgcolor": "#E5ECF6",
           "caxis": {
            "gridcolor": "white",
            "linecolor": "white",
            "ticks": ""
           }
          },
          "title": {
           "x": 0.05
          },
          "xaxis": {
           "automargin": true,
           "gridcolor": "white",
           "linecolor": "white",
           "ticks": "",
           "title": {
            "standoff": 15
           },
           "zerolinecolor": "white",
           "zerolinewidth": 2
          },
          "yaxis": {
           "automargin": true,
           "gridcolor": "white",
           "linecolor": "white",
           "ticks": "",
           "title": {
            "standoff": 15
           },
           "zerolinecolor": "white",
           "zerolinewidth": 2
          }
         }
        },
        "title": {
         "text": "Receiver Operating Characteristic (ROC) Curve for Heart Disease"
        },
        "width": 900,
        "xaxis": {
         "title": {
          "text": "False Positive Rate"
         }
        },
        "yaxis": {
         "title": {
          "text": "True Positive Rate"
         }
        }
       }
      }
     },
     "metadata": {},
     "output_type": "display_data"
    }
   ],
   "source": [
    "#grid search did not find a model which could perform better than the default randomforest, i any capacity\n",
    "#default setting might just be better on general data.\n",
    "#roc and auc curve\n",
    "main_rfc_fpr, main_rfc_tpr, _ = roc_curve(y_train, rfc_pred_temp)\n",
    "main_rfc_auc = auc(main_rfc_fpr, main_rfc_tpr)\n",
    "grid_rfc_fpr, grid_rfc_tpr, _ = roc_curve(y_train, grid_pred_temp)\n",
    "grid_rfc_auc = auc(grid_rfc_fpr, grid_rfc_tpr)\n",
    "\n",
    "\n",
    "\n",
    "fig = go.Figure()\n",
    "fig.add_trace(go.Scatter(x=main_rfc_fpr, y=main_rfc_tpr, mode='lines', name=f'Random Forest (AUC = {main_rfc_auc:.2f})', line=dict(color=colors[1])))\n",
    "fig.add_trace(go.Scatter(x=grid_rfc_fpr, y=grid_rfc_tpr, mode='lines', name=f'Gridsearch Random Forest (AUC = {grid_rfc_auc:.2f})', line=dict(color=colors[3])))\n",
    "\n",
    "fig.add_shape(type='line', line=dict(dash='dash'), x0=0, x1=1, y0=0, y1=1)\n",
    "fig.update_layout(title='Receiver Operating Characteristic (ROC) Curve for Heart Disease', xaxis=dict(title='False Positive Rate'), yaxis=dict(title='True Positive Rate'), legend=dict(x=0.7, y=0.2), autosize=False, width=900, height=500, plot_bgcolor='white')\n",
    "fig.show()"
   ]
  },
  {
   "cell_type": "code",
   "execution_count": 107,
   "metadata": {},
   "outputs": [
    {
     "data": {
      "text/plain": [
       "['rfc.pkl']"
      ]
     },
     "execution_count": 107,
     "metadata": {},
     "output_type": "execute_result"
    }
   ],
   "source": [
    "# save model\n",
    "\n",
    "joblib.dump(rfc, \"rfc.pkl\",compress=3)"
   ]
  },
  {
   "cell_type": "code",
   "execution_count": 18,
   "metadata": {},
   "outputs": [
    {
     "data": {
      "text/plain": [
       "['scaler.bin']"
      ]
     },
     "execution_count": 18,
     "metadata": {},
     "output_type": "execute_result"
    }
   ],
   "source": [
    "#save standard scaler\n",
    "cvd_cut = pd.read_csv(\"cvd_manually_cut.csv\")\n",
    "\n",
    "numerical_columns = ['Height_(cm)', 'Weight_(kg)', 'BMI', 'Alcohol_Consumption', \n",
    "                         'Fruit_Consumption', 'Green_Vegetables_Consumption', 'FriedPotato_Consumption']\n",
    "    \n",
    "scaler = StandardScaler().fit(cvd_cut[numerical_columns])\n",
    "joblib.dump(scaler, \"scaler.bin\")\n"
   ]
  },
  {
   "cell_type": "code",
   "execution_count": 2,
   "metadata": {},
   "outputs": [],
   "source": [
    "model = joblib.load(\"rfc.pkl\")"
   ]
  },
  {
   "cell_type": "code",
   "execution_count": 4,
   "metadata": {},
   "outputs": [],
   "source": [
    "input_data = pd.DataFrame({\n",
    "        'Height_(cm)': [186],\n",
    "        'Weight_(kg)': [120],\n",
    "        'BMI': [36],\n",
    "        'Alcohol_Consumption': [27],\n",
    "        'Fruit_Consumption': [4],\n",
    "        'Green_Vegetables_Consumption': [3],\n",
    "        'FriedPotato_Consumption': [60],\n",
    "        'General_Health_Fair': [0],\n",
    "        'General_Health_Good': [0],\n",
    "        'General_Health_Poor': [1],\n",
    "        'General_Health_Very Good': [0],\n",
    "        'Checkup_5 or more years ago': [1],\n",
    "        'Checkup_Within the past 2 years': [0],\n",
    "        'Checkup_Within the past 5 years': [0],\n",
    "        'Checkup_Within the past year': [0],\n",
    "        'Exercise_Yes': [0],\n",
    "        'Skin_Cancer_Yes': [0],\n",
    "        'Other_Cancer_Yes': [0],\n",
    "        'Depression_Yes': [1],\n",
    "        'Diabetes_No, pre-diabetes or borderline diabetes': [0],\n",
    "        'Diabetes_Yes': [1],\n",
    "        'Diabetes_Yes, but female told only during pregnancy': [0],\n",
    "        'Arthritis_Yes': [1],\n",
    "        'Sex_Male': [1],\n",
    "        'Age_Category_25-29': [0],\n",
    "        'Age_Category_30-34': [0],\n",
    "        'Age_Category_35-39': [0],\n",
    "        'Age_Category_40-44': [0],\n",
    "        'Age_Category_45-49': [0],\n",
    "        'Age_Category_50-54': [0],\n",
    "        'Age_Category_55-59': [0],\n",
    "        'Age_Category_60-64': [0],\n",
    "        'Age_Category_65-69': [1],\n",
    "        'Age_Category_70-74': [0],\n",
    "        'Age_Category_75-79': [0],\n",
    "        'Age_Category_80+': [0],\n",
    "        'Smoking_History_yes': [1], \n",
    "    })"
   ]
  },
  {
   "cell_type": "code",
   "execution_count": 25,
   "metadata": {},
   "outputs": [],
   "source": [
    "def create_pred_input_data(df):\n",
    "    numerical_columns = [\"Height_(cm)\", \"Weight_(kg)\", \"BMI\", \"Alcohol_Consumption\", \n",
    "                         \"Fruit_Consumption\", \"Green_Vegetables_Consumption\", \"FriedPotato_Consumption\"]\n",
    "    \n",
    "    scaler = joblib.load(\"scaler.bin\")\n",
    "    X_scaled = scaler.transform(df[numerical_columns])\n",
    "    categorical_columns = df.drop(numerical_columns, axis=1) \n",
    "    full_data = np.hstack([X_scaled, categorical_columns.to_numpy()])\n",
    "    return full_data"
   ]
  },
  {
   "cell_type": "code",
   "execution_count": 29,
   "metadata": {},
   "outputs": [],
   "source": [
    "processed_data = create_pred_input_data(input_data)"
   ]
  },
  {
   "cell_type": "code",
   "execution_count": 30,
   "metadata": {},
   "outputs": [
    {
     "data": {
      "text/plain": [
       "array([[ 1.42847401,  1.64797036,  1.07780649,  2.71658932, -1.0189884 ,\n",
       "        -0.79689656,  6.16553328,  0.        ,  0.        ,  1.        ,\n",
       "         0.        ,  1.        ,  0.        ,  0.        ,  0.        ,\n",
       "         0.        ,  0.        ,  0.        ,  1.        ,  0.        ,\n",
       "         1.        ,  0.        ,  1.        ,  1.        ,  0.        ,\n",
       "         0.        ,  0.        ,  0.        ,  0.        ,  0.        ,\n",
       "         0.        ,  0.        ,  1.        ,  0.        ,  0.        ,\n",
       "         0.        ,  1.        ]])"
      ]
     },
     "execution_count": 30,
     "metadata": {},
     "output_type": "execute_result"
    }
   ],
   "source": [
    "processed_data"
   ]
  },
  {
   "cell_type": "code",
   "execution_count": 31,
   "metadata": {},
   "outputs": [],
   "source": [
    "# Make the prediction\n",
    "prediction = model.predict(processed_data)"
   ]
  },
  {
   "cell_type": "code",
   "execution_count": 32,
   "metadata": {},
   "outputs": [
    {
     "data": {
      "text/plain": [
       "array([ True])"
      ]
     },
     "execution_count": 32,
     "metadata": {},
     "output_type": "execute_result"
    }
   ],
   "source": [
    "prediction"
   ]
  },
  {
   "cell_type": "code",
   "execution_count": 48,
   "metadata": {},
   "outputs": [
    {
     "data": {
      "image/png": "[encoded data removed]",
      "text/plain": [
       "<Figure size 1200x800 with 1 Axes>"
      ]
     },
     "metadata": {},
     "output_type": "display_data"
    }
   ],
   "source": [
    "\n",
    "\n",
    "X = cvd_cut.drop(\"Heart_Disease_Yes\", axis=1)\n",
    "\n",
    "feature_importances = model.feature_importances_\n",
    "numerical_columns = [\"Height_(cm)\", \"Weight_(kg)\", \"BMI\", \"Alcohol_Consumption\", \n",
    "                         \"Fruit_Consumption\", \"Green_Vegetables_Consumption\", \"FriedPotato_Consumption\"]\n",
    "categorical_columns = X.drop(numerical_columns, axis=1) \n",
    "\n",
    "feature_names = numerical_columns + categorical_columns.columns.tolist()\n",
    "\n",
    "importance_df = pd.DataFrame({\n",
    "    'Feature': feature_names,\n",
    "    'Importance': feature_importances\n",
    "})\n",
    "\n",
    "# Sort the DataFrame by the 'Importance' column in descending order\n",
    "importance_df = importance_df.sort_values(by='Importance', ascending=False)\n",
    "\n",
    "colors = cm.PiYG(importance_df['Importance'] / max(importance_df['Importance']))\n",
    "\n",
    "plt.figure(figsize=(12, 8))\n",
    "plt.barh(importance_df['Feature'], importance_df['Importance'], color=colors)\n",
    "plt.xlabel(\"Feature Importance\")\n",
    "plt.ylabel(\"Feature\")\n",
    "plt.title(\"Feature Importance in Predicting Heart Disease\")\n",
    "plt.gca().invert_yaxis()  # Optional: Invert y-axis for descending order\n",
    "plt.show()\n"
   ]
  }
 ],
 "metadata": {
  "kernelspec": {
   "display_name": ".venv",
   "language": "python",
   "name": "python3"
  },
  "language_info": {
   "codemirror_mode": {
    "name": "ipython",
    "version": 3
   },
   "file_extension": ".py",
   "mimetype": "text/x-python",
   "name": "python",
   "nbconvert_exporter": "python",
   "pygments_lexer": "ipython3",
   "version": "3.12.5"
  }
 },
 "nbformat": 4,
 "nbformat_minor": 2
}
